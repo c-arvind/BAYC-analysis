{
  "nbformat": 4,
  "nbformat_minor": 0,
  "metadata": {
    "colab": {
      "name": "pa-bayc.ipynb",
      "provenance": [],
      "collapsed_sections": []
    },
    "kernelspec": {
      "name": "python3",
      "display_name": "Python 3"
    },
    "language_info": {
      "name": "python"
    },
    "accelerator": "GPU"
  },
  "cells": [
    {
      "cell_type": "markdown",
      "source": [
        "#**NFT PRICE PREDICTION**"
      ],
      "metadata": {
        "id": "i6-9TgfDOPx7"
      }
    },
    {
      "cell_type": "markdown",
      "source": [
        "### IMPORTING LIBRARIES"
      ],
      "metadata": {
        "id": "8BwNr-yGOdk-"
      }
    },
    {
      "cell_type": "code",
      "execution_count": null,
      "metadata": {
        "id": "gf_YMNVZYkxs"
      },
      "outputs": [],
      "source": [
        "import matplotlib.pyplot as plt\n",
        "import numpy as np\n",
        "import pandas as pd\n",
        "import seaborn as sns"
      ]
    },
    {
      "cell_type": "code",
      "source": [
        "from google.colab import drive\n",
        "drive.mount('/content/drive')"
      ],
      "metadata": {
        "colab": {
          "base_uri": "https://localhost:8080/"
        },
        "id": "iI3Y62yNqZVV",
        "outputId": "d055a9f5-0c1a-47ac-9500-d97634d34f08"
      },
      "execution_count": null,
      "outputs": [
        {
          "output_type": "stream",
          "name": "stdout",
          "text": [
            "Mounted at /content/drive\n"
          ]
        }
      ]
    },
    {
      "cell_type": "markdown",
      "source": [
        "###READING THE DATASET \n",
        "data of \"bored apes\" NFT collected using the OpenSea API"
      ],
      "metadata": {
        "id": "2FbincFfOnuU"
      }
    },
    {
      "cell_type": "code",
      "source": [
        "df_raw = pd.read_csv('/content/drive/MyDrive/Colab Notebooks/opensea/bored_apes.csv', parse_dates=['SaleDate']).rename(columns={'index': 'TokenId'})\n",
        "df = df_raw.loc[(df_raw['USDPrice'] != 0) & (~df_raw['LastSalePrice'].isna())]\n",
        "df = df.sort_values(['SaleDate']).reset_index(level=0, drop=True)  # sort by sale date and time\n",
        "df.head()"
      ],
      "metadata": {
        "colab": {
          "base_uri": "https://localhost:8080/",
          "height": 391
        },
        "id": "ZFoXnPjVcH24",
        "outputId": "e84c8566-b787-4f57-92cf-b7a2ac98edde"
      },
      "execution_count": null,
      "outputs": [
        {
          "output_type": "execute_result",
          "data": {
            "text/plain": [
              "   TokenId  LastSalePrice  Background  BackgroundRarity      Earring  \\\n",
              "0      742           0.12      Purple            0.1291          NaN   \n",
              "1      832           0.12        Blue            0.1242          NaN   \n",
              "2     1026           0.09      Orange            0.1273          NaN   \n",
              "3     1150           0.50      Purple            0.1291          NaN   \n",
              "4     1685           0.18  Aquamarine            0.1266  Silver Hoop   \n",
              "\n",
              "   EarringRarity           Fur  FurRarity        Eyes  EyesRarity  \\\n",
              "0            NaN       Cheetah     0.0406  Sunglasses      0.0352   \n",
              "1            NaN  Golden Brown     0.0778  Sunglasses      0.0352   \n",
              "2            NaN  Golden Brown     0.0778       Bored      0.1714   \n",
              "3            NaN    Dark Brown     0.1352      Closed      0.0710   \n",
              "4         0.0882        Zombie     0.0302       Crazy      0.0407   \n",
              "\n",
              "                      Mouth  MouthRarity              Clothes  ClothesRarity  \\\n",
              "0               Bored Kazoo       0.0074              Tanktop         0.0235   \n",
              "1           Grin Gold Grill       0.0091         Caveman Pelt         0.0163   \n",
              "2  Bored Unshaven Cigarette       0.0438  Leather Punk Jacket         0.0153   \n",
              "3            Bored Unshaven       0.1551       Vietnam Jacket         0.0224   \n",
              "4            Bored Unshaven       0.1551                  NaN            NaN   \n",
              "\n",
              "                 Hat  HatRarity LastSaleToken  NumberOfSales  \\\n",
              "0  Sea Captain's Hat     0.0304         Ether            1.0   \n",
              "1       Bandana Blue     0.0089         Ether            1.0   \n",
              "2                NaN        NaN         Ether            1.0   \n",
              "3      Laurel Wreath     0.0072         Ether            1.0   \n",
              "4             Beanie     0.0578         Ether            1.0   \n",
              "\n",
              "                    SaleDate   USDPrice  \n",
              "0 2021-05-01 02:36:07.954644   491.3940  \n",
              "1 2021-05-01 02:42:39.319928   491.3940  \n",
              "2 2021-05-01 04:26:03.610832   368.5455  \n",
              "3 2021-05-01 05:01:06.871720  2047.4750  \n",
              "4 2021-05-01 06:32:25.020302   737.0910  "
            ],
            "text/html": [
              "\n",
              "  <div id=\"df-3c885747-a372-454f-a1a7-5d6b112341c6\">\n",
              "    <div class=\"colab-df-container\">\n",
              "      <div>\n",
              "<style scoped>\n",
              "    .dataframe tbody tr th:only-of-type {\n",
              "        vertical-align: middle;\n",
              "    }\n",
              "\n",
              "    .dataframe tbody tr th {\n",
              "        vertical-align: top;\n",
              "    }\n",
              "\n",
              "    .dataframe thead th {\n",
              "        text-align: right;\n",
              "    }\n",
              "</style>\n",
              "<table border=\"1\" class=\"dataframe\">\n",
              "  <thead>\n",
              "    <tr style=\"text-align: right;\">\n",
              "      <th></th>\n",
              "      <th>TokenId</th>\n",
              "      <th>LastSalePrice</th>\n",
              "      <th>Background</th>\n",
              "      <th>BackgroundRarity</th>\n",
              "      <th>Earring</th>\n",
              "      <th>EarringRarity</th>\n",
              "      <th>Fur</th>\n",
              "      <th>FurRarity</th>\n",
              "      <th>Eyes</th>\n",
              "      <th>EyesRarity</th>\n",
              "      <th>Mouth</th>\n",
              "      <th>MouthRarity</th>\n",
              "      <th>Clothes</th>\n",
              "      <th>ClothesRarity</th>\n",
              "      <th>Hat</th>\n",
              "      <th>HatRarity</th>\n",
              "      <th>LastSaleToken</th>\n",
              "      <th>NumberOfSales</th>\n",
              "      <th>SaleDate</th>\n",
              "      <th>USDPrice</th>\n",
              "    </tr>\n",
              "  </thead>\n",
              "  <tbody>\n",
              "    <tr>\n",
              "      <th>0</th>\n",
              "      <td>742</td>\n",
              "      <td>0.12</td>\n",
              "      <td>Purple</td>\n",
              "      <td>0.1291</td>\n",
              "      <td>NaN</td>\n",
              "      <td>NaN</td>\n",
              "      <td>Cheetah</td>\n",
              "      <td>0.0406</td>\n",
              "      <td>Sunglasses</td>\n",
              "      <td>0.0352</td>\n",
              "      <td>Bored Kazoo</td>\n",
              "      <td>0.0074</td>\n",
              "      <td>Tanktop</td>\n",
              "      <td>0.0235</td>\n",
              "      <td>Sea Captain's Hat</td>\n",
              "      <td>0.0304</td>\n",
              "      <td>Ether</td>\n",
              "      <td>1.0</td>\n",
              "      <td>2021-05-01 02:36:07.954644</td>\n",
              "      <td>491.3940</td>\n",
              "    </tr>\n",
              "    <tr>\n",
              "      <th>1</th>\n",
              "      <td>832</td>\n",
              "      <td>0.12</td>\n",
              "      <td>Blue</td>\n",
              "      <td>0.1242</td>\n",
              "      <td>NaN</td>\n",
              "      <td>NaN</td>\n",
              "      <td>Golden Brown</td>\n",
              "      <td>0.0778</td>\n",
              "      <td>Sunglasses</td>\n",
              "      <td>0.0352</td>\n",
              "      <td>Grin Gold Grill</td>\n",
              "      <td>0.0091</td>\n",
              "      <td>Caveman Pelt</td>\n",
              "      <td>0.0163</td>\n",
              "      <td>Bandana Blue</td>\n",
              "      <td>0.0089</td>\n",
              "      <td>Ether</td>\n",
              "      <td>1.0</td>\n",
              "      <td>2021-05-01 02:42:39.319928</td>\n",
              "      <td>491.3940</td>\n",
              "    </tr>\n",
              "    <tr>\n",
              "      <th>2</th>\n",
              "      <td>1026</td>\n",
              "      <td>0.09</td>\n",
              "      <td>Orange</td>\n",
              "      <td>0.1273</td>\n",
              "      <td>NaN</td>\n",
              "      <td>NaN</td>\n",
              "      <td>Golden Brown</td>\n",
              "      <td>0.0778</td>\n",
              "      <td>Bored</td>\n",
              "      <td>0.1714</td>\n",
              "      <td>Bored Unshaven Cigarette</td>\n",
              "      <td>0.0438</td>\n",
              "      <td>Leather Punk Jacket</td>\n",
              "      <td>0.0153</td>\n",
              "      <td>NaN</td>\n",
              "      <td>NaN</td>\n",
              "      <td>Ether</td>\n",
              "      <td>1.0</td>\n",
              "      <td>2021-05-01 04:26:03.610832</td>\n",
              "      <td>368.5455</td>\n",
              "    </tr>\n",
              "    <tr>\n",
              "      <th>3</th>\n",
              "      <td>1150</td>\n",
              "      <td>0.50</td>\n",
              "      <td>Purple</td>\n",
              "      <td>0.1291</td>\n",
              "      <td>NaN</td>\n",
              "      <td>NaN</td>\n",
              "      <td>Dark Brown</td>\n",
              "      <td>0.1352</td>\n",
              "      <td>Closed</td>\n",
              "      <td>0.0710</td>\n",
              "      <td>Bored Unshaven</td>\n",
              "      <td>0.1551</td>\n",
              "      <td>Vietnam Jacket</td>\n",
              "      <td>0.0224</td>\n",
              "      <td>Laurel Wreath</td>\n",
              "      <td>0.0072</td>\n",
              "      <td>Ether</td>\n",
              "      <td>1.0</td>\n",
              "      <td>2021-05-01 05:01:06.871720</td>\n",
              "      <td>2047.4750</td>\n",
              "    </tr>\n",
              "    <tr>\n",
              "      <th>4</th>\n",
              "      <td>1685</td>\n",
              "      <td>0.18</td>\n",
              "      <td>Aquamarine</td>\n",
              "      <td>0.1266</td>\n",
              "      <td>Silver Hoop</td>\n",
              "      <td>0.0882</td>\n",
              "      <td>Zombie</td>\n",
              "      <td>0.0302</td>\n",
              "      <td>Crazy</td>\n",
              "      <td>0.0407</td>\n",
              "      <td>Bored Unshaven</td>\n",
              "      <td>0.1551</td>\n",
              "      <td>NaN</td>\n",
              "      <td>NaN</td>\n",
              "      <td>Beanie</td>\n",
              "      <td>0.0578</td>\n",
              "      <td>Ether</td>\n",
              "      <td>1.0</td>\n",
              "      <td>2021-05-01 06:32:25.020302</td>\n",
              "      <td>737.0910</td>\n",
              "    </tr>\n",
              "  </tbody>\n",
              "</table>\n",
              "</div>\n",
              "      <button class=\"colab-df-convert\" onclick=\"convertToInteractive('df-3c885747-a372-454f-a1a7-5d6b112341c6')\"\n",
              "              title=\"Convert this dataframe to an interactive table.\"\n",
              "              style=\"display:none;\">\n",
              "        \n",
              "  <svg xmlns=\"http://www.w3.org/2000/svg\" height=\"24px\"viewBox=\"0 0 24 24\"\n",
              "       width=\"24px\">\n",
              "    <path d=\"M0 0h24v24H0V0z\" fill=\"none\"/>\n",
              "    <path d=\"M18.56 5.44l.94 2.06.94-2.06 2.06-.94-2.06-.94-.94-2.06-.94 2.06-2.06.94zm-11 1L8.5 8.5l.94-2.06 2.06-.94-2.06-.94L8.5 2.5l-.94 2.06-2.06.94zm10 10l.94 2.06.94-2.06 2.06-.94-2.06-.94-.94-2.06-.94 2.06-2.06.94z\"/><path d=\"M17.41 7.96l-1.37-1.37c-.4-.4-.92-.59-1.43-.59-.52 0-1.04.2-1.43.59L10.3 9.45l-7.72 7.72c-.78.78-.78 2.05 0 2.83L4 21.41c.39.39.9.59 1.41.59.51 0 1.02-.2 1.41-.59l7.78-7.78 2.81-2.81c.8-.78.8-2.07 0-2.86zM5.41 20L4 18.59l7.72-7.72 1.47 1.35L5.41 20z\"/>\n",
              "  </svg>\n",
              "      </button>\n",
              "      \n",
              "  <style>\n",
              "    .colab-df-container {\n",
              "      display:flex;\n",
              "      flex-wrap:wrap;\n",
              "      gap: 12px;\n",
              "    }\n",
              "\n",
              "    .colab-df-convert {\n",
              "      background-color: #E8F0FE;\n",
              "      border: none;\n",
              "      border-radius: 50%;\n",
              "      cursor: pointer;\n",
              "      display: none;\n",
              "      fill: #1967D2;\n",
              "      height: 32px;\n",
              "      padding: 0 0 0 0;\n",
              "      width: 32px;\n",
              "    }\n",
              "\n",
              "    .colab-df-convert:hover {\n",
              "      background-color: #E2EBFA;\n",
              "      box-shadow: 0px 1px 2px rgba(60, 64, 67, 0.3), 0px 1px 3px 1px rgba(60, 64, 67, 0.15);\n",
              "      fill: #174EA6;\n",
              "    }\n",
              "\n",
              "    [theme=dark] .colab-df-convert {\n",
              "      background-color: #3B4455;\n",
              "      fill: #D2E3FC;\n",
              "    }\n",
              "\n",
              "    [theme=dark] .colab-df-convert:hover {\n",
              "      background-color: #434B5C;\n",
              "      box-shadow: 0px 1px 3px 1px rgba(0, 0, 0, 0.15);\n",
              "      filter: drop-shadow(0px 1px 2px rgba(0, 0, 0, 0.3));\n",
              "      fill: #FFFFFF;\n",
              "    }\n",
              "  </style>\n",
              "\n",
              "      <script>\n",
              "        const buttonEl =\n",
              "          document.querySelector('#df-3c885747-a372-454f-a1a7-5d6b112341c6 button.colab-df-convert');\n",
              "        buttonEl.style.display =\n",
              "          google.colab.kernel.accessAllowed ? 'block' : 'none';\n",
              "\n",
              "        async function convertToInteractive(key) {\n",
              "          const element = document.querySelector('#df-3c885747-a372-454f-a1a7-5d6b112341c6');\n",
              "          const dataTable =\n",
              "            await google.colab.kernel.invokeFunction('convertToInteractive',\n",
              "                                                     [key], {});\n",
              "          if (!dataTable) return;\n",
              "\n",
              "          const docLinkHtml = 'Like what you see? Visit the ' +\n",
              "            '<a target=\"_blank\" href=https://colab.research.google.com/notebooks/data_table.ipynb>data table notebook</a>'\n",
              "            + ' to learn more about interactive tables.';\n",
              "          element.innerHTML = '';\n",
              "          dataTable['output_type'] = 'display_data';\n",
              "          await google.colab.output.renderOutput(dataTable, element);\n",
              "          const docLink = document.createElement('div');\n",
              "          docLink.innerHTML = docLinkHtml;\n",
              "          element.appendChild(docLink);\n",
              "        }\n",
              "      </script>\n",
              "    </div>\n",
              "  </div>\n",
              "  "
            ]
          },
          "metadata": {},
          "execution_count": 3
        }
      ]
    },
    {
      "cell_type": "code",
      "source": [
        "df.columns"
      ],
      "metadata": {
        "id": "BQQB56_YMC7d",
        "outputId": "3fdfebae-00b3-48a1-ae77-abe3b66ae5bd",
        "colab": {
          "base_uri": "https://localhost:8080/"
        }
      },
      "execution_count": null,
      "outputs": [
        {
          "output_type": "execute_result",
          "data": {
            "text/plain": [
              "Index(['TokenId', 'LastSalePrice', 'Background', 'BackgroundRarity', 'Earring',\n",
              "       'EarringRarity', 'Fur', 'FurRarity', 'Eyes', 'EyesRarity', 'Mouth',\n",
              "       'MouthRarity', 'Clothes', 'ClothesRarity', 'Hat', 'HatRarity',\n",
              "       'LastSaleToken', 'NumberOfSales', 'SaleDate', 'USDPrice'],\n",
              "      dtype='object')"
            ]
          },
          "metadata": {},
          "execution_count": 4
        }
      ]
    },
    {
      "cell_type": "markdown",
      "source": [
        "### EXPLORATORY DATA ANALYSIS"
      ],
      "metadata": {
        "id": "ZiFPeNymOsVK"
      }
    },
    {
      "cell_type": "code",
      "source": [
        "sns.scatterplot(x='SaleDate', y='USDPrice', data=df)"
      ],
      "metadata": {
        "colab": {
          "base_uri": "https://localhost:8080/",
          "height": 308
        },
        "id": "Lm2E0nQFcLR5",
        "outputId": "dbe34f79-d378-4702-e3af-deff2e795b46"
      },
      "execution_count": null,
      "outputs": [
        {
          "output_type": "execute_result",
          "data": {
            "text/plain": [
              "<matplotlib.axes._subplots.AxesSubplot at 0x7fbc3e0de750>"
            ]
          },
          "metadata": {},
          "execution_count": 6
        },
        {
          "output_type": "display_data",
          "data": {
            "text/plain": [
              "<Figure size 432x288 with 1 Axes>"
            ],
            "image/png": "[encoded data removed]"
          },
          "metadata": {
            "needs_background": "light"
          }
        }
      ]
    },
    {
      "cell_type": "code",
      "source": [
        "ts = df.groupby('SaleDate').agg({'USDPrice': 'mean'})\n",
        "ts_outrm = ts.loc[ts['USDPrice'] < 10e5]\n",
        "sns.scatterplot(x='SaleDate', y='USDPrice', data=ts_outrm)"
      ],
      "metadata": {
        "colab": {
          "base_uri": "https://localhost:8080/",
          "height": 297
        },
        "id": "0FBP5tJ6czPX",
        "outputId": "28103d4a-025e-45dd-c1c7-2af84a67028b"
      },
      "execution_count": null,
      "outputs": [
        {
          "output_type": "execute_result",
          "data": {
            "text/plain": [
              "<matplotlib.axes._subplots.AxesSubplot at 0x7fbc3e007950>"
            ]
          },
          "metadata": {},
          "execution_count": 7
        },
        {
          "output_type": "display_data",
          "data": {
            "text/plain": [
              "<Figure size 432x288 with 1 Axes>"
            ],
            "image/png": "[encoded data removed]"
          },
          "metadata": {
            "needs_background": "light"
          }
        }
      ]
    },
    {
      "cell_type": "code",
      "source": [
        "log_price = np.log(ts_outrm['USDPrice'])\n",
        "sns.lineplot(x='SaleDate', y=log_price, data=ts_outrm)\n",
        "rolling_median = log_price.rolling(window=14).median()\n",
        "sns.lineplot(x=ts_outrm.index, y=rolling_median, color='orange')"
      ],
      "metadata": {
        "colab": {
          "base_uri": "https://localhost:8080/",
          "height": 299
        },
        "id": "eJBEblpfdMkO",
        "outputId": "00b25daa-2b22-44fd-c16b-5f02e4daceb4"
      },
      "execution_count": null,
      "outputs": [
        {
          "output_type": "execute_result",
          "data": {
            "text/plain": [
              "<matplotlib.axes._subplots.AxesSubplot at 0x7fbc3e0902d0>"
            ]
          },
          "metadata": {},
          "execution_count": 8
        },
        {
          "output_type": "display_data",
          "data": {
            "text/plain": [
              "<Figure size 432x288 with 1 Axes>"
            ],
            "image/png": "[encoded data removed]"
          },
          "metadata": {
            "needs_background": "light"
          }
        }
      ]
    },
    {
      "cell_type": "markdown",
      "source": [
        "### DATA PREPROCESSING"
      ],
      "metadata": {
        "id": "QxUhb1FGO7lf"
      }
    },
    {
      "cell_type": "markdown",
      "source": [
        "Dealing with outliers"
      ],
      "metadata": {
        "id": "Qd5iH2h7Ps4O"
      }
    },
    {
      "cell_type": "code",
      "source": [
        "df['LogUSDPrice'] = np.log(df['USDPrice'])\n",
        "mean = df['LogUSDPrice'].ewm(span=14).mean()  # exponentially weighted moving average with 14 point window\n",
        "std = df['LogUSDPrice'].ewm(span=14).std()\n",
        "\n",
        "mean_plus_std = mean + 1.7*std\n",
        "# mean_minus_std = mean - 2*std\n",
        "\n",
        "# is_outlier = (df['LogUSDPrice'] > mean_plus_std) | (df['LogUSDPrice'] < mean_minus_std)\n",
        "is_outlier = df['LogUSDPrice'] > mean_plus_std\n",
        "df['Outlier'] = 1\n",
        "df.loc[is_outlier, 'Outlier']=-1"
      ],
      "metadata": {
        "id": "RRetzvfTfe6m"
      },
      "execution_count": null,
      "outputs": []
    },
    {
      "cell_type": "code",
      "source": [
        "dfo, dfi = df[is_outlier].copy(), df[~is_outlier].copy()\n",
        "dfs = dfo, dfi\n",
        "for data in dfs:\n",
        "    rolling_median = data['LogUSDPrice'].rolling(window=7, min_periods=1).median()\n",
        "    ewm = data['LogUSDPrice'].ewm(span=14).mean()\n",
        "    data['LogUSDPriceEWM'] = (rolling_median + ewm) / 2\n",
        "    # Percentage Extension from the Exponential Weighted Moving Average\n",
        "    data['PctExtensionEWM'] = data.apply(lambda x: (x['LogUSDPrice'] - x['LogUSDPriceEWM']) / x['LogUSDPriceEWM'], axis=1)"
      ],
      "metadata": {
        "id": "pUqfL45ZiW13"
      },
      "execution_count": null,
      "outputs": []
    },
    {
      "cell_type": "code",
      "source": [
        "fig, ax = plt.subplots()\n",
        "sns.lineplot(x='SaleDate', y='LogUSDPrice', data=df)\n",
        "sns.lineplot(x='SaleDate', y='LogUSDPriceEWM', color='orange', data=dfi)\n",
        "sns.lineplot(x='SaleDate', y='LogUSDPriceEWM', color='red', data=dfo)\n",
        "ax.set_title('Base Prices for Inliers and Outliers')\n",
        "plt.show()"
      ],
      "metadata": {
        "colab": {
          "base_uri": "https://localhost:8080/",
          "height": 295
        },
        "id": "y_3PCUH9jqLs",
        "outputId": "eadff126-9896-46f4-c77e-1ffa36232940"
      },
      "execution_count": null,
      "outputs": [
        {
          "output_type": "display_data",
          "data": {
            "text/plain": [
              "<Figure size 432x288 with 1 Axes>"
            ],
            "image/png": "[encoded data removed]"
          },
          "metadata": {
            "needs_background": "light"
          }
        }
      ]
    },
    {
      "cell_type": "markdown",
      "source": [
        "Handling Missing Values"
      ],
      "metadata": {
        "id": "f_Ax70zQkgDl"
      }
    },
    {
      "cell_type": "code",
      "source": [
        "rarity_cols = [c for c in df.columns if 'Rarity' in c]  #numeric rarity related cols\n",
        "# clean up na's in rarity cols\n",
        "def fill_trait_na(col) -> float:\n",
        "    fill_value = 1 - col.dropna().unique().sum()\n",
        "    return fill_value\n",
        "\n",
        "for data in dfs:\n",
        "    data[rarity_cols] = data[rarity_cols].apply(lambda x: x.fillna(fill_trait_na(x)))"
      ],
      "metadata": {
        "id": "uoUJizRUkjgo"
      },
      "execution_count": null,
      "outputs": []
    },
    {
      "cell_type": "code",
      "source": [
        "#Change NaNs to None. This way it represents an actual category (not having a hat for example).\n",
        "traits = ['Background', 'Earring', 'Fur', 'Eyes', 'Mouth', 'Clothes', 'Hat']\n",
        "for data in dfs:\n",
        "    data[traits] = data[traits].fillna('None')"
      ],
      "metadata": {
        "id": "huc-iwm4j_L9"
      },
      "execution_count": null,
      "outputs": []
    },
    {
      "cell_type": "code",
      "source": [
        "#plotting inliers and outliers to check for normalization of data\n",
        "fig, (ax1, ax2) = plt.subplots(1,2, figsize=(12,5))\n",
        "sns.histplot(dfi['PctExtensionEWM'], ax=ax1)\n",
        "ax1.set_title('Distribution of Extension from EWM Inliers')\n",
        "sns.histplot(dfo['PctExtensionEWM'], ax=ax2)\n",
        "ax2.set_title('Distribution of Extension from EWM Outliers')"
      ],
      "metadata": {
        "colab": {
          "base_uri": "https://localhost:8080/",
          "height": 368
        },
        "id": "d4DSVJKdK6kE",
        "outputId": "8f998c99-d03b-47e1-f9a7-d592864937c0"
      },
      "execution_count": null,
      "outputs": [
        {
          "output_type": "execute_result",
          "data": {
            "text/plain": [
              "Text(0.5, 1.0, 'Distribution of Extension from EWM Outliers')"
            ]
          },
          "metadata": {},
          "execution_count": 21
        },
        {
          "output_type": "display_data",
          "data": {
            "text/plain": [
              "<Figure size 864x360 with 2 Axes>"
            ],
            "image/png": "[encoded data removed]"
          },
          "metadata": {
            "needs_background": "light"
          }
        }
      ]
    },
    {
      "cell_type": "markdown",
      "source": [
        "To implement a decision rule that rightfully detects whether an NFT is an outlier or not based on features instead of price, I decided to check for the traits which were most famous and checked with the rarity column for set of traits"
      ],
      "metadata": {
        "id": "Kc7pqAchTJXL"
      }
    },
    {
      "cell_type": "code",
      "source": [
        "def has_two_less_1pct(row, cols):\n",
        "    \"\"\"Retruns true if the NFT has at least two traits with rarities less than 1%\"\"\"\n",
        "    rarity = row[cols].values\n",
        "    n = len(rarity[np.where(rarity < 0.01)])\n",
        "    if n> 1:\n",
        "        return 1\n",
        "    return 0\n",
        "\n",
        "def has_rare_clothes_or_fur(row):\n",
        "    \"\"\"Return true if the NFT has clothes or fur with a rarity of less than 1%\"\"\"\n",
        "    if row['ClothesRarity'] < 0.01 or row['FurRarity'] < 0.01:\n",
        "        return 1\n",
        "    return 0\n",
        "\n",
        "from collections import Counter\n",
        "def find_matches(row, categories):\n",
        "    traits = row[categories].values\n",
        "    keywords = []\n",
        "    for trait in traits:\n",
        "        #print(trait)\n",
        "        split = trait.split(' ')\n",
        "        for word in split:\n",
        "            keywords.append(word)\n",
        "\n",
        "    if 'None' in keywords:\n",
        "        keywords.remove('None')\n",
        "    counts = Counter(keywords)\n",
        "    most_common = counts.most_common(1)\n",
        "    matches = most_common[0][1] - 1\n",
        "    if matches:\n",
        "        return 1\n",
        "    return 0\n",
        "\n",
        "for data in dfs:\n",
        "    data['HasTwoLess1Pct'] = data.apply(lambda x: has_two_less_1pct(x, rarity_cols), axis=1)\n",
        "    data['HasRareClothesOrFur'] = data.apply(has_rare_clothes_or_fur, axis=1)\n",
        "    data['HasMatches'] = data.apply(lambda x: find_matches(x, traits), axis=1)"
      ],
      "metadata": {
        "id": "SOL346IhS2Bf"
      },
      "execution_count": null,
      "outputs": []
    },
    {
      "cell_type": "code",
      "source": [
        "for data in dfs:\n",
        "    data.loc[(data['HasTwoLess1Pct']==1) | (data['HasRareClothesOrFur']==1), 'OutlierRule'] = -1\n",
        "    data['OutlierRule'] = data['OutlierRule'].fillna(1)"
      ],
      "metadata": {
        "id": "YJq2g0MuWKut"
      },
      "execution_count": null,
      "outputs": []
    },
    {
      "cell_type": "markdown",
      "source": [
        "so now we have an `OutlierRule` column which contains -1 if any of the rule rarity is below 1% else it has 1. We are doing this to try and include rarity in predicting prices"
      ],
      "metadata": {
        "id": "2_zKNAL8iHgn"
      }
    },
    {
      "cell_type": "markdown",
      "source": [
        "### Encoding Categorical Features"
      ],
      "metadata": {
        "id": "sXu6V0aQWXxD"
      }
    },
    {
      "cell_type": "code",
      "source": [
        "from sklearn.preprocessing import OneHotEncoder"
      ],
      "metadata": {
        "id": "Z6eTUBzkWbAv"
      },
      "execution_count": null,
      "outputs": []
    },
    {
      "cell_type": "code",
      "source": [
        "categorical_feature_cols = [\n",
        "    'Background',\n",
        "    'Earring',\n",
        "    'Mouth',\n",
        "    'Clothes',\n",
        "    'Hat',\n",
        "    'Fur',\n",
        "    'Eyes',\n",
        "]\n",
        "clf_features = ['HasTwoLess1Pct', 'HasRareClothesOrFur', 'HasMatches']"
      ],
      "metadata": {
        "id": "qdvEHpmuWY73"
      },
      "execution_count": null,
      "outputs": []
    },
    {
      "cell_type": "code",
      "source": [
        "# encode outlier data\n",
        "enc = OneHotEncoder(handle_unknown='ignore')\n",
        "\n",
        "# regression encoded dataframe\n",
        "enc_df = pd.DataFrame(enc.fit_transform(dfo[categorical_feature_cols]).toarray())\n",
        "enc_df.index = list(enc_df.index)  # convert index to int64 index\n",
        "\n",
        "# add labels\n",
        "enc_df.columns = enc.get_feature_names_out()\n",
        "\n",
        "# merge and drop\n",
        "dfp = dfo.reset_index(drop=True).merge(enc_df.reset_index(drop=True), left_index=True, right_index=True)\n",
        "dfo = dfp.drop(columns=categorical_feature_cols)"
      ],
      "metadata": {
        "id": "uDQf75k2WktZ"
      },
      "execution_count": null,
      "outputs": []
    },
    {
      "cell_type": "code",
      "source": [
        "# encode inlier data\n",
        "enc = OneHotEncoder(handle_unknown='ignore')\n",
        "\n",
        "# regression encoded dataframe\n",
        "enc_df = pd.DataFrame(enc.fit_transform(dfi[categorical_feature_cols]).toarray())\n",
        "\n",
        "# add labels\n",
        "enc_df.columns = enc.get_feature_names_out()\n",
        "\n",
        "# merge and drop\n",
        "dfp = dfi.reset_index(drop=True).merge(enc_df.reset_index(drop=True), left_index=True, right_index=True)\n",
        "dfi = dfp.drop(columns=categorical_feature_cols)"
      ],
      "metadata": {
        "id": "f6XA5IK0Wn6U"
      },
      "execution_count": null,
      "outputs": []
    },
    {
      "cell_type": "code",
      "source": [
        "print(dfi.shape)"
      ],
      "metadata": {
        "colab": {
          "base_uri": "https://localhost:8080/"
        },
        "id": "ZzUyxlVMWyRk",
        "outputId": "b0556308-ce61-4a4d-d105-078ddfe9a5d6"
      },
      "execution_count": null,
      "outputs": [
        {
          "output_type": "stream",
          "name": "stdout",
          "text": [
            "(7992, 192)\n"
          ]
        }
      ]
    },
    {
      "cell_type": "markdown",
      "source": [
        "Now both the inlier dataFrame `dfi` as well as the outlier dataFrame `dfo` have been one-hot encoded (the traits) and added as additional columns to the original dataframe. This is shown by the shape function indicating that there are 192 columns because of the one hot encoded columns"
      ],
      "metadata": {
        "id": "AV56IwlVjKae"
      }
    },
    {
      "cell_type": "code",
      "execution_count": null,
      "metadata": {
        "id": "XLOlx7ZLKdoT",
        "colab": {
          "base_uri": "https://localhost:8080/"
        },
        "outputId": "5ae07fcc-abc1-4cdc-bc44-5bdf353b18ff"
      },
      "outputs": [
        {
          "output_type": "stream",
          "name": "stdout",
          "text": [
            "['Eyes_Robot', 'Eyes_Sad', 'Eyes_Scumbag', 'Eyes_Sleepy', 'Eyes_Sunglasses', 'Eyes_Wide Eyed', 'Eyes_X Eyes', 'Eyes_Zombie', 'HasMatches', 'NumberOfSales']\n"
          ]
        }
      ],
      "source": [
        "df = pd.concat([dfi, dfo])\n",
        "#storing all the one_hot encoded data column names along with the matches and no of sales of set nft\n",
        "features = [feature for feature in df.columns if '_' in feature]\n",
        "features.extend(['HasMatches', 'NumberOfSales'])\n",
        "print(features[-10:])"
      ]
    },
    {
      "cell_type": "markdown",
      "source": [
        "### Preparing data for regression"
      ],
      "metadata": {
        "id": "l1fOX1Gwk8mE"
      }
    },
    {
      "cell_type": "code",
      "execution_count": null,
      "metadata": {
        "id": "DgsOnqaXKdoT"
      },
      "outputs": [],
      "source": [
        "from sklearn.model_selection import train_test_split,cross_validate"
      ]
    },
    {
      "cell_type": "code",
      "execution_count": null,
      "metadata": {
        "id": "zTslf3oJKdoT"
      },
      "outputs": [],
      "source": [
        "X = df.loc[:, features+['OutlierRule', 'Outlier']]\n",
        "#taking target variable as the modified USD price as we are trying to use traits to predict selling price\n",
        "y = df['PctExtensionEWM']\n",
        "X_train, X_test, y_train, y_test = train_test_split(X, y, test_size=0.33, random_state=42)"
      ]
    },
    {
      "cell_type": "code",
      "execution_count": null,
      "metadata": {
        "id": "M3nTEnGoKdoU"
      },
      "outputs": [],
      "source": [
        "#inliers of the decision rule made w.r.t trait rarity\n",
        "X_train_in = X_train[X_train['Outlier']==1].drop(columns=['OutlierRule', 'Outlier'])\n",
        "y_train_in = y_train[X_train['Outlier']==1]"
      ]
    },
    {
      "cell_type": "code",
      "source": [
        "#outliers of the decision rule made w.r.t trait rarity\n",
        "X_train_out = X_train[X_train['Outlier']==-1].drop(columns=['OutlierRule', 'Outlier'])\n",
        "y_train_out = y_train[X_train['Outlier']==-1]\n",
        "display(X_train_out)"
      ],
      "metadata": {
        "colab": {
          "base_uri": "https://localhost:8080/",
          "height": 504
        },
        "id": "uhE4s2v_b-xE",
        "outputId": "7e2213f1-bfdc-4158-9256-06973d57e8f7"
      },
      "execution_count": null,
      "outputs": [
        {
          "output_type": "display_data",
          "data": {
            "text/plain": [
              "     Background_Aquamarine  Background_Army Green  Background_Blue  \\\n",
              "201                    0.0                    1.0              0.0   \n",
              "161                    0.0                    0.0              0.0   \n",
              "228                    1.0                    0.0              0.0   \n",
              "39                     0.0                    0.0              0.0   \n",
              "205                    0.0                    0.0              0.0   \n",
              "..                     ...                    ...              ...   \n",
              "118                    0.0                    0.0              0.0   \n",
              "162                    1.0                    0.0              0.0   \n",
              "14                     1.0                    0.0              0.0   \n",
              "234                    0.0                    0.0              0.0   \n",
              "330                    1.0                    0.0              0.0   \n",
              "\n",
              "     Background_Gray  Background_New Punk Blue  Background_Orange  \\\n",
              "201              0.0                       0.0                0.0   \n",
              "161              0.0                       0.0                1.0   \n",
              "228              0.0                       0.0                0.0   \n",
              "39               1.0                       0.0                0.0   \n",
              "205              0.0                       0.0                1.0   \n",
              "..               ...                       ...                ...   \n",
              "118              0.0                       1.0                0.0   \n",
              "162              0.0                       0.0                0.0   \n",
              "14               0.0                       0.0                0.0   \n",
              "234              0.0                       0.0                0.0   \n",
              "330              0.0                       0.0                0.0   \n",
              "\n",
              "     Background_Purple  Background_Yellow  Earring_Cross  \\\n",
              "201                0.0                0.0            0.0   \n",
              "161                0.0                0.0            1.0   \n",
              "228                0.0                0.0            0.0   \n",
              "39                 0.0                0.0            0.0   \n",
              "205                0.0                0.0            0.0   \n",
              "..                 ...                ...            ...   \n",
              "118                0.0                0.0            0.0   \n",
              "162                0.0                0.0            0.0   \n",
              "14                 0.0                0.0            0.0   \n",
              "234                1.0                0.0            0.0   \n",
              "330                0.0                0.0            0.0   \n",
              "\n",
              "     Earring_Diamond Stud  ...  Eyes_Robot  Eyes_Sad  Eyes_Scumbag  \\\n",
              "201                   0.0  ...         0.0       0.0           1.0   \n",
              "161                   0.0  ...         0.0       0.0           0.0   \n",
              "228                   0.0  ...         0.0       0.0           0.0   \n",
              "39                    0.0  ...         0.0       0.0           0.0   \n",
              "205                   0.0  ...         0.0       0.0           0.0   \n",
              "..                    ...  ...         ...       ...           ...   \n",
              "118                   0.0  ...         0.0       0.0           0.0   \n",
              "162                   0.0  ...         0.0       0.0           0.0   \n",
              "14                    0.0  ...         0.0       0.0           0.0   \n",
              "234                   0.0  ...         0.0       0.0           0.0   \n",
              "330                   0.0  ...         0.0       0.0           0.0   \n",
              "\n",
              "     Eyes_Sleepy  Eyes_Sunglasses  Eyes_Wide Eyed  Eyes_X Eyes  Eyes_Zombie  \\\n",
              "201          0.0              0.0             0.0          0.0          0.0   \n",
              "161          0.0              0.0             0.0          0.0          0.0   \n",
              "228          0.0              0.0             0.0          0.0          0.0   \n",
              "39           0.0              0.0             0.0          0.0          0.0   \n",
              "205          0.0              0.0             0.0          0.0          0.0   \n",
              "..           ...              ...             ...          ...          ...   \n",
              "118          0.0              1.0             0.0          0.0          0.0   \n",
              "162          0.0              0.0             0.0          0.0          0.0   \n",
              "14           0.0              0.0             0.0          0.0          0.0   \n",
              "234          0.0              0.0             0.0          0.0          0.0   \n",
              "330          0.0              0.0             0.0          0.0          0.0   \n",
              "\n",
              "     HasMatches  NumberOfSales  \n",
              "201           0            2.0  \n",
              "161           1            3.0  \n",
              "228           0            1.0  \n",
              "39            1            1.0  \n",
              "205           0            1.0  \n",
              "..          ...            ...  \n",
              "118           1            3.0  \n",
              "162           0            1.0  \n",
              "14            0            1.0  \n",
              "234           1            1.0  \n",
              "330           0            4.0  \n",
              "\n",
              "[273 rows x 173 columns]"
            ],
            "text/html": [
              "\n",
              "  <div id=\"df-c009c351-3c16-4b3c-84c5-94caf7d71e83\">\n",
              "    <div class=\"colab-df-container\">\n",
              "      <div>\n",
              "<style scoped>\n",
              "    .dataframe tbody tr th:only-of-type {\n",
              "        vertical-align: middle;\n",
              "    }\n",
              "\n",
              "    .dataframe tbody tr th {\n",
              "        vertical-align: top;\n",
              "    }\n",
              "\n",
              "    .dataframe thead th {\n",
              "        text-align: right;\n",
              "    }\n",
              "</style>\n",
              "<table border=\"1\" class=\"dataframe\">\n",
              "  <thead>\n",
              "    <tr style=\"text-align: right;\">\n",
              "      <th></th>\n",
              "      <th>Background_Aquamarine</th>\n",
              "      <th>Background_Army Green</th>\n",
              "      <th>Background_Blue</th>\n",
              "      <th>Background_Gray</th>\n",
              "      <th>Background_New Punk Blue</th>\n",
              "      <th>Background_Orange</th>\n",
              "      <th>Background_Purple</th>\n",
              "      <th>Background_Yellow</th>\n",
              "      <th>Earring_Cross</th>\n",
              "      <th>Earring_Diamond Stud</th>\n",
              "      <th>...</th>\n",
              "      <th>Eyes_Robot</th>\n",
              "      <th>Eyes_Sad</th>\n",
              "      <th>Eyes_Scumbag</th>\n",
              "      <th>Eyes_Sleepy</th>\n",
              "      <th>Eyes_Sunglasses</th>\n",
              "      <th>Eyes_Wide Eyed</th>\n",
              "      <th>Eyes_X Eyes</th>\n",
              "      <th>Eyes_Zombie</th>\n",
              "      <th>HasMatches</th>\n",
              "      <th>NumberOfSales</th>\n",
              "    </tr>\n",
              "  </thead>\n",
              "  <tbody>\n",
              "    <tr>\n",
              "      <th>201</th>\n",
              "      <td>0.0</td>\n",
              "      <td>1.0</td>\n",
              "      <td>0.0</td>\n",
              "      <td>0.0</td>\n",
              "      <td>0.0</td>\n",
              "      <td>0.0</td>\n",
              "      <td>0.0</td>\n",
              "      <td>0.0</td>\n",
              "      <td>0.0</td>\n",
              "      <td>0.0</td>\n",
              "      <td>...</td>\n",
              "      <td>0.0</td>\n",
              "      <td>0.0</td>\n",
              "      <td>1.0</td>\n",
              "      <td>0.0</td>\n",
              "      <td>0.0</td>\n",
              "      <td>0.0</td>\n",
              "      <td>0.0</td>\n",
              "      <td>0.0</td>\n",
              "      <td>0</td>\n",
              "      <td>2.0</td>\n",
              "    </tr>\n",
              "    <tr>\n",
              "      <th>161</th>\n",
              "      <td>0.0</td>\n",
              "      <td>0.0</td>\n",
              "      <td>0.0</td>\n",
              "      <td>0.0</td>\n",
              "      <td>0.0</td>\n",
              "      <td>1.0</td>\n",
              "      <td>0.0</td>\n",
              "      <td>0.0</td>\n",
              "      <td>1.0</td>\n",
              "      <td>0.0</td>\n",
              "      <td>...</td>\n",
              "      <td>0.0</td>\n",
              "      <td>0.0</td>\n",
              "      <td>0.0</td>\n",
              "      <td>0.0</td>\n",
              "      <td>0.0</td>\n",
              "      <td>0.0</td>\n",
              "      <td>0.0</td>\n",
              "      <td>0.0</td>\n",
              "      <td>1</td>\n",
              "      <td>3.0</td>\n",
              "    </tr>\n",
              "    <tr>\n",
              "      <th>228</th>\n",
              "      <td>1.0</td>\n",
              "      <td>0.0</td>\n",
              "      <td>0.0</td>\n",
              "      <td>0.0</td>\n",
              "      <td>0.0</td>\n",
              "      <td>0.0</td>\n",
              "      <td>0.0</td>\n",
              "      <td>0.0</td>\n",
              "      <td>0.0</td>\n",
              "      <td>0.0</td>\n",
              "      <td>...</td>\n",
              "      <td>0.0</td>\n",
              "      <td>0.0</td>\n",
              "      <td>0.0</td>\n",
              "      <td>0.0</td>\n",
              "      <td>0.0</td>\n",
              "      <td>0.0</td>\n",
              "      <td>0.0</td>\n",
              "      <td>0.0</td>\n",
              "      <td>0</td>\n",
              "      <td>1.0</td>\n",
              "    </tr>\n",
              "    <tr>\n",
              "      <th>39</th>\n",
              "      <td>0.0</td>\n",
              "      <td>0.0</td>\n",
              "      <td>0.0</td>\n",
              "      <td>1.0</td>\n",
              "      <td>0.0</td>\n",
              "      <td>0.0</td>\n",
              "      <td>0.0</td>\n",
              "      <td>0.0</td>\n",
              "      <td>0.0</td>\n",
              "      <td>0.0</td>\n",
              "      <td>...</td>\n",
              "      <td>0.0</td>\n",
              "      <td>0.0</td>\n",
              "      <td>0.0</td>\n",
              "      <td>0.0</td>\n",
              "      <td>0.0</td>\n",
              "      <td>0.0</td>\n",
              "      <td>0.0</td>\n",
              "      <td>0.0</td>\n",
              "      <td>1</td>\n",
              "      <td>1.0</td>\n",
              "    </tr>\n",
              "    <tr>\n",
              "      <th>205</th>\n",
              "      <td>0.0</td>\n",
              "      <td>0.0</td>\n",
              "      <td>0.0</td>\n",
              "      <td>0.0</td>\n",
              "      <td>0.0</td>\n",
              "      <td>1.0</td>\n",
              "      <td>0.0</td>\n",
              "      <td>0.0</td>\n",
              "      <td>0.0</td>\n",
              "      <td>0.0</td>\n",
              "      <td>...</td>\n",
              "      <td>0.0</td>\n",
              "      <td>0.0</td>\n",
              "      <td>0.0</td>\n",
              "      <td>0.0</td>\n",
              "      <td>0.0</td>\n",
              "      <td>0.0</td>\n",
              "      <td>0.0</td>\n",
              "      <td>0.0</td>\n",
              "      <td>0</td>\n",
              "      <td>1.0</td>\n",
              "    </tr>\n",
              "    <tr>\n",
              "      <th>...</th>\n",
              "      <td>...</td>\n",
              "      <td>...</td>\n",
              "      <td>...</td>\n",
              "      <td>...</td>\n",
              "      <td>...</td>\n",
              "      <td>...</td>\n",
              "      <td>...</td>\n",
              "      <td>...</td>\n",
              "      <td>...</td>\n",
              "      <td>...</td>\n",
              "      <td>...</td>\n",
              "      <td>...</td>\n",
              "      <td>...</td>\n",
              "      <td>...</td>\n",
              "      <td>...</td>\n",
              "      <td>...</td>\n",
              "      <td>...</td>\n",
              "      <td>...</td>\n",
              "      <td>...</td>\n",
              "      <td>...</td>\n",
              "      <td>...</td>\n",
              "    </tr>\n",
              "    <tr>\n",
              "      <th>118</th>\n",
              "      <td>0.0</td>\n",
              "      <td>0.0</td>\n",
              "      <td>0.0</td>\n",
              "      <td>0.0</td>\n",
              "      <td>1.0</td>\n",
              "      <td>0.0</td>\n",
              "      <td>0.0</td>\n",
              "      <td>0.0</td>\n",
              "      <td>0.0</td>\n",
              "      <td>0.0</td>\n",
              "      <td>...</td>\n",
              "      <td>0.0</td>\n",
              "      <td>0.0</td>\n",
              "      <td>0.0</td>\n",
              "      <td>0.0</td>\n",
              "      <td>1.0</td>\n",
              "      <td>0.0</td>\n",
              "      <td>0.0</td>\n",
              "      <td>0.0</td>\n",
              "      <td>1</td>\n",
              "      <td>3.0</td>\n",
              "    </tr>\n",
              "    <tr>\n",
              "      <th>162</th>\n",
              "      <td>1.0</td>\n",
              "      <td>0.0</td>\n",
              "      <td>0.0</td>\n",
              "      <td>0.0</td>\n",
              "      <td>0.0</td>\n",
              "      <td>0.0</td>\n",
              "      <td>0.0</td>\n",
              "      <td>0.0</td>\n",
              "      <td>0.0</td>\n",
              "      <td>0.0</td>\n",
              "      <td>...</td>\n",
              "      <td>0.0</td>\n",
              "      <td>0.0</td>\n",
              "      <td>0.0</td>\n",
              "      <td>0.0</td>\n",
              "      <td>0.0</td>\n",
              "      <td>0.0</td>\n",
              "      <td>0.0</td>\n",
              "      <td>0.0</td>\n",
              "      <td>0</td>\n",
              "      <td>1.0</td>\n",
              "    </tr>\n",
              "    <tr>\n",
              "      <th>14</th>\n",
              "      <td>1.0</td>\n",
              "      <td>0.0</td>\n",
              "      <td>0.0</td>\n",
              "      <td>0.0</td>\n",
              "      <td>0.0</td>\n",
              "      <td>0.0</td>\n",
              "      <td>0.0</td>\n",
              "      <td>0.0</td>\n",
              "      <td>0.0</td>\n",
              "      <td>0.0</td>\n",
              "      <td>...</td>\n",
              "      <td>0.0</td>\n",
              "      <td>0.0</td>\n",
              "      <td>0.0</td>\n",
              "      <td>0.0</td>\n",
              "      <td>0.0</td>\n",
              "      <td>0.0</td>\n",
              "      <td>0.0</td>\n",
              "      <td>0.0</td>\n",
              "      <td>0</td>\n",
              "      <td>1.0</td>\n",
              "    </tr>\n",
              "    <tr>\n",
              "      <th>234</th>\n",
              "      <td>0.0</td>\n",
              "      <td>0.0</td>\n",
              "      <td>0.0</td>\n",
              "      <td>0.0</td>\n",
              "      <td>0.0</td>\n",
              "      <td>0.0</td>\n",
              "      <td>1.0</td>\n",
              "      <td>0.0</td>\n",
              "      <td>0.0</td>\n",
              "      <td>0.0</td>\n",
              "      <td>...</td>\n",
              "      <td>0.0</td>\n",
              "      <td>0.0</td>\n",
              "      <td>0.0</td>\n",
              "      <td>0.0</td>\n",
              "      <td>0.0</td>\n",
              "      <td>0.0</td>\n",
              "      <td>0.0</td>\n",
              "      <td>0.0</td>\n",
              "      <td>1</td>\n",
              "      <td>1.0</td>\n",
              "    </tr>\n",
              "    <tr>\n",
              "      <th>330</th>\n",
              "      <td>1.0</td>\n",
              "      <td>0.0</td>\n",
              "      <td>0.0</td>\n",
              "      <td>0.0</td>\n",
              "      <td>0.0</td>\n",
              "      <td>0.0</td>\n",
              "      <td>0.0</td>\n",
              "      <td>0.0</td>\n",
              "      <td>0.0</td>\n",
              "      <td>0.0</td>\n",
              "      <td>...</td>\n",
              "      <td>0.0</td>\n",
              "      <td>0.0</td>\n",
              "      <td>0.0</td>\n",
              "      <td>0.0</td>\n",
              "      <td>0.0</td>\n",
              "      <td>0.0</td>\n",
              "      <td>0.0</td>\n",
              "      <td>0.0</td>\n",
              "      <td>0</td>\n",
              "      <td>4.0</td>\n",
              "    </tr>\n",
              "  </tbody>\n",
              "</table>\n",
              "<p>273 rows × 173 columns</p>\n",
              "</div>\n",
              "      <button class=\"colab-df-convert\" onclick=\"convertToInteractive('df-c009c351-3c16-4b3c-84c5-94caf7d71e83')\"\n",
              "              title=\"Convert this dataframe to an interactive table.\"\n",
              "              style=\"display:none;\">\n",
              "        \n",
              "  <svg xmlns=\"http://www.w3.org/2000/svg\" height=\"24px\"viewBox=\"0 0 24 24\"\n",
              "       width=\"24px\">\n",
              "    <path d=\"M0 0h24v24H0V0z\" fill=\"none\"/>\n",
              "    <path d=\"M18.56 5.44l.94 2.06.94-2.06 2.06-.94-2.06-.94-.94-2.06-.94 2.06-2.06.94zm-11 1L8.5 8.5l.94-2.06 2.06-.94-2.06-.94L8.5 2.5l-.94 2.06-2.06.94zm10 10l.94 2.06.94-2.06 2.06-.94-2.06-.94-.94-2.06-.94 2.06-2.06.94z\"/><path d=\"M17.41 7.96l-1.37-1.37c-.4-.4-.92-.59-1.43-.59-.52 0-1.04.2-1.43.59L10.3 9.45l-7.72 7.72c-.78.78-.78 2.05 0 2.83L4 21.41c.39.39.9.59 1.41.59.51 0 1.02-.2 1.41-.59l7.78-7.78 2.81-2.81c.8-.78.8-2.07 0-2.86zM5.41 20L4 18.59l7.72-7.72 1.47 1.35L5.41 20z\"/>\n",
              "  </svg>\n",
              "      </button>\n",
              "      \n",
              "  <style>\n",
              "    .colab-df-container {\n",
              "      display:flex;\n",
              "      flex-wrap:wrap;\n",
              "      gap: 12px;\n",
              "    }\n",
              "\n",
              "    .colab-df-convert {\n",
              "      background-color: #E8F0FE;\n",
              "      border: none;\n",
              "      border-radius: 50%;\n",
              "      cursor: pointer;\n",
              "      display: none;\n",
              "      fill: #1967D2;\n",
              "      height: 32px;\n",
              "      padding: 0 0 0 0;\n",
              "      width: 32px;\n",
              "    }\n",
              "\n",
              "    .colab-df-convert:hover {\n",
              "      background-color: #E2EBFA;\n",
              "      box-shadow: 0px 1px 2px rgba(60, 64, 67, 0.3), 0px 1px 3px 1px rgba(60, 64, 67, 0.15);\n",
              "      fill: #174EA6;\n",
              "    }\n",
              "\n",
              "    [theme=dark] .colab-df-convert {\n",
              "      background-color: #3B4455;\n",
              "      fill: #D2E3FC;\n",
              "    }\n",
              "\n",
              "    [theme=dark] .colab-df-convert:hover {\n",
              "      background-color: #434B5C;\n",
              "      box-shadow: 0px 1px 3px 1px rgba(0, 0, 0, 0.15);\n",
              "      filter: drop-shadow(0px 1px 2px rgba(0, 0, 0, 0.3));\n",
              "      fill: #FFFFFF;\n",
              "    }\n",
              "  </style>\n",
              "\n",
              "      <script>\n",
              "        const buttonEl =\n",
              "          document.querySelector('#df-c009c351-3c16-4b3c-84c5-94caf7d71e83 button.colab-df-convert');\n",
              "        buttonEl.style.display =\n",
              "          google.colab.kernel.accessAllowed ? 'block' : 'none';\n",
              "\n",
              "        async function convertToInteractive(key) {\n",
              "          const element = document.querySelector('#df-c009c351-3c16-4b3c-84c5-94caf7d71e83');\n",
              "          const dataTable =\n",
              "            await google.colab.kernel.invokeFunction('convertToInteractive',\n",
              "                                                     [key], {});\n",
              "          if (!dataTable) return;\n",
              "\n",
              "          const docLinkHtml = 'Like what you see? Visit the ' +\n",
              "            '<a target=\"_blank\" href=https://colab.research.google.com/notebooks/data_table.ipynb>data table notebook</a>'\n",
              "            + ' to learn more about interactive tables.';\n",
              "          element.innerHTML = '';\n",
              "          dataTable['output_type'] = 'display_data';\n",
              "          await google.colab.output.renderOutput(dataTable, element);\n",
              "          const docLink = document.createElement('div');\n",
              "          docLink.innerHTML = docLinkHtml;\n",
              "          element.appendChild(docLink);\n",
              "        }\n",
              "      </script>\n",
              "    </div>\n",
              "  </div>\n",
              "  "
            ]
          },
          "metadata": {}
        }
      ]
    },
    {
      "cell_type": "markdown",
      "source": [
        "### Implementing a Regressor"
      ],
      "metadata": {
        "id": "8co4VO5HYlcS"
      }
    },
    {
      "cell_type": "code",
      "execution_count": null,
      "metadata": {
        "id": "UxxBwjCdKdoV"
      },
      "outputs": [],
      "source": [
        "from sklearn.ensemble import VotingRegressor\n",
        "#so this is an ensemble learning model which combines all the regressors as a stack\n",
        "#According to stack overflow it does regression using all the models and picks the averaged out -\n",
        "# majority prediction which sounded like a better variant in comparison to simple GridSearchCV so I decided to use this\n",
        "from sklearn.ensemble import RandomForestRegressor\n",
        "from sklearn.linear_model import LinearRegression, HuberRegressor, LassoCV"
      ]
    },
    {
      "cell_type": "code",
      "execution_count": null,
      "metadata": {
        "id": "6S2Tc3veKdoV"
      },
      "outputs": [],
      "source": [
        "estimators = [('randomforest', RandomForestRegressor(random_state=42, n_estimators=200)),\n",
        "              ('linear', LassoCV(random_state=42)),\n",
        "              ('huber', HuberRegressor(epsilon=2, max_iter=1000))]"
      ]
    },
    {
      "cell_type": "code",
      "execution_count": null,
      "metadata": {
        "id": "E4aaqoAHKdoW"
      },
      "outputs": [],
      "source": [
        "vreg_in, vreg_out = VotingRegressor(estimators),  VotingRegressor(estimators)"
      ]
    },
    {
      "cell_type": "code",
      "execution_count": null,
      "metadata": {
        "id": "pVOovVB0KdoW",
        "outputId": "bd3fbe7e-7f9c-46f9-e010-bb59eb9fe952",
        "colab": {
          "base_uri": "https://localhost:8080/"
        }
      },
      "outputs": [
        {
          "output_type": "execute_result",
          "data": {
            "text/plain": [
              "{'fit_time': array([23.25505638, 20.44590735, 17.30365658]),\n",
              " 'score_time': array([0.29451752, 0.18528128, 0.1943996 ]),\n",
              " 'test_score': array([-0.00084108, -0.00086722, -0.00082498]),\n",
              " 'train_score': array([-0.00048788, -0.00046956, -0.00048151])}"
            ]
          },
          "metadata": {},
          "execution_count": 89
        }
      ],
      "source": [
        "#implemented cross validation for training set\n",
        "cross_validate(vreg_in, X_train_in, y_train_in, cv=3,\n",
        "               scoring=('neg_mean_squared_error'),\n",
        "               return_train_score=True)"
      ]
    },
    {
      "cell_type": "code",
      "execution_count": null,
      "metadata": {
        "id": "yWiBfoXyKdoW",
        "outputId": "158935c9-f19b-485e-a44c-7421170a43cf",
        "colab": {
          "base_uri": "https://localhost:8080/"
        }
      },
      "outputs": [
        {
          "output_type": "execute_result",
          "data": {
            "text/plain": [
              "VotingRegressor(estimators=[('randomforest',\n",
              "                             RandomForestRegressor(n_estimators=200,\n",
              "                                                   random_state=42)),\n",
              "                            ('linear', LassoCV(random_state=42)),\n",
              "                            ('huber',\n",
              "                             HuberRegressor(epsilon=2, max_iter=1000))])"
            ]
          },
          "metadata": {},
          "execution_count": 90
        }
      ],
      "source": [
        "vreg_in.fit(X_train_in, y_train_in)\n",
        "vreg_out.fit(X_train_out, y_train_out)"
      ]
    },
    {
      "cell_type": "code",
      "execution_count": null,
      "metadata": {
        "id": "pe6deEPxKdoX"
      },
      "outputs": [],
      "source": [
        "def predict(X, models: dict):\n",
        "    #Custom prediction function\n",
        "    ## So the problem which I realized late into the model was that the regression models take in 173 rows\n",
        "    ## and the test data has 175 rows -- the 2 rows being the outlier determiners\n",
        "    ## which i completely forgot to use and blindly tried - vreg_in.predict(X_test)\n",
        "    ### Anyways this function splits X test data into outliered and inliered\n",
        "    ### and respectfully runs predict function so that outliered data gets calculated by outlier model vreg_out and inlier by vreg_in\n",
        "    outliers = X['OutlierRule'] == -1\n",
        "    X_o = X.loc[outliers].drop(columns=['OutlierRule', 'Outlier'])\n",
        "    X_i = X.loc[~outliers].drop(columns=['OutlierRule', 'Outlier'])\n",
        "    y = np.empty(X.shape[0])  # store combined predictions\n",
        "    \n",
        "    # predict target values separately accorindg to the two models\n",
        "    if X_o.shape[0]:\n",
        "        y_o_pred = models['o'].predict(X_o)\n",
        "        y[outliers] = y_o_pred\n",
        "    if X_i.shape[0]:\n",
        "        y_i_pred = models['i'].predict(X_i)\n",
        "        y[~outliers] = y_i_pred\n",
        "    \n",
        "    return y"
      ]
    },
    {
      "cell_type": "code",
      "execution_count": null,
      "metadata": {
        "id": "8CpHBMOIKdoY",
        "colab": {
          "base_uri": "https://localhost:8080/"
        },
        "outputId": "bc99d79a-1c10-474a-c91a-b2be63579890"
      },
      "outputs": [
        {
          "output_type": "execute_result",
          "data": {
            "text/plain": [
              "-0.0011067743966976424"
            ]
          },
          "metadata": {},
          "execution_count": 92
        }
      ],
      "source": [
        "y_actual, y_pred = y_test, predict(X_test, {'o': vreg_out, 'i': vreg_in})\n",
        "predict_df = pd.DataFrame({'Actual': y_actual, 'Predicted': y_pred})\n",
        "from sklearn import metrics\n",
        "-metrics.mean_squared_error(y_test, y_pred)"
      ]
    },
    {
      "cell_type": "code",
      "source": [
        "print(y_pred)"
      ],
      "metadata": {
        "colab": {
          "base_uri": "https://localhost:8080/"
        },
        "id": "jU_fmo7ZoLFZ",
        "outputId": "526b67ea-4e08-4ca4-b570-ab5629cea4c6"
      },
      "execution_count": null,
      "outputs": [
        {
          "output_type": "stream",
          "name": "stdout",
          "text": [
            "[ 0.00077658  0.05498782  0.00474185 ...  0.00075116 -0.0147683\n",
            " -0.00397608]\n"
          ]
        }
      ]
    },
    {
      "cell_type": "code",
      "execution_count": null,
      "metadata": {
        "id": "6rX_ytz2KdoY",
        "outputId": "e904b89d-4165-4cff-ef22-2f2e39974f31",
        "colab": {
          "base_uri": "https://localhost:8080/",
          "height": 363
        }
      },
      "outputs": [
        {
          "output_type": "execute_result",
          "data": {
            "text/plain": [
              "      TokenId                   SaleDate  LogUSDPriceEWM    Actual  Predicted  \\\n",
              "585      4950 2021-05-02 10:43:22.512822        7.331432  0.190526   0.053058   \n",
              "253      8923 2021-05-01 17:57:50.991544        6.704095 -0.004963   0.132790   \n",
              "3698     5662 2021-06-20 15:12:02.665861       10.042150  0.040716   0.014313   \n",
              "6711     3701 2021-09-06 09:48:47.309181       12.087582  0.014988  -0.000685   \n",
              "183      4482 2021-06-20 13:32:40.680009       11.806548  0.048397   0.063693   \n",
              "6000     1954 2021-08-23 13:11:46.041586       11.623994 -0.000916  -0.015116   \n",
              "5169     4664 2021-08-02 16:08:58.340632       10.716524 -0.007416   0.026015   \n",
              "3792     1177 2021-06-21 08:19:22.562350        9.928203 -0.010739  -0.006196   \n",
              "2699       38 2021-06-05 17:58:05.571447        8.648170  0.028273   0.022045   \n",
              "2457     7223 2021-06-01 18:15:06.021976        8.559655 -0.031230  -0.015287   \n",
              "\n",
              "           USDPrice  PctExtensionEWM  PredictedUSDPrice  \n",
              "585     6174.960000         0.190526        2253.921804  \n",
              "253      571.082343        -0.053186        1986.897630  \n",
              "3698   34579.776000         0.040716       26526.165931  \n",
              "6711  212937.400000         0.014988      176186.441099  \n",
              "183   237507.100000         0.048397      284514.897162  \n",
              "6000  110563.650000        -0.000916       93740.117710  \n",
              "5169   41649.673000        -0.007416       59594.211983  \n",
              "3792   18427.275000        -0.010739       19277.417620  \n",
              "2699    7278.480000         0.028273        6896.866120  \n",
              "2457    3993.140800        -0.031230        4577.010415  "
            ],
            "text/html": [
              "\n",
              "  <div id=\"df-514b5cda-15ef-4f74-b9b9-d1a1b0010aad\">\n",
              "    <div class=\"colab-df-container\">\n",
              "      <div>\n",
              "<style scoped>\n",
              "    .dataframe tbody tr th:only-of-type {\n",
              "        vertical-align: middle;\n",
              "    }\n",
              "\n",
              "    .dataframe tbody tr th {\n",
              "        vertical-align: top;\n",
              "    }\n",
              "\n",
              "    .dataframe thead th {\n",
              "        text-align: right;\n",
              "    }\n",
              "</style>\n",
              "<table border=\"1\" class=\"dataframe\">\n",
              "  <thead>\n",
              "    <tr style=\"text-align: right;\">\n",
              "      <th></th>\n",
              "      <th>TokenId</th>\n",
              "      <th>SaleDate</th>\n",
              "      <th>LogUSDPriceEWM</th>\n",
              "      <th>Actual</th>\n",
              "      <th>Predicted</th>\n",
              "      <th>USDPrice</th>\n",
              "      <th>PctExtensionEWM</th>\n",
              "      <th>PredictedUSDPrice</th>\n",
              "    </tr>\n",
              "  </thead>\n",
              "  <tbody>\n",
              "    <tr>\n",
              "      <th>585</th>\n",
              "      <td>4950</td>\n",
              "      <td>2021-05-02 10:43:22.512822</td>\n",
              "      <td>7.331432</td>\n",
              "      <td>0.190526</td>\n",
              "      <td>0.053058</td>\n",
              "      <td>6174.960000</td>\n",
              "      <td>0.190526</td>\n",
              "      <td>2253.921804</td>\n",
              "    </tr>\n",
              "    <tr>\n",
              "      <th>253</th>\n",
              "      <td>8923</td>\n",
              "      <td>2021-05-01 17:57:50.991544</td>\n",
              "      <td>6.704095</td>\n",
              "      <td>-0.004963</td>\n",
              "      <td>0.132790</td>\n",
              "      <td>571.082343</td>\n",
              "      <td>-0.053186</td>\n",
              "      <td>1986.897630</td>\n",
              "    </tr>\n",
              "    <tr>\n",
              "      <th>3698</th>\n",
              "      <td>5662</td>\n",
              "      <td>2021-06-20 15:12:02.665861</td>\n",
              "      <td>10.042150</td>\n",
              "      <td>0.040716</td>\n",
              "      <td>0.014313</td>\n",
              "      <td>34579.776000</td>\n",
              "      <td>0.040716</td>\n",
              "      <td>26526.165931</td>\n",
              "    </tr>\n",
              "    <tr>\n",
              "      <th>6711</th>\n",
              "      <td>3701</td>\n",
              "      <td>2021-09-06 09:48:47.309181</td>\n",
              "      <td>12.087582</td>\n",
              "      <td>0.014988</td>\n",
              "      <td>-0.000685</td>\n",
              "      <td>212937.400000</td>\n",
              "      <td>0.014988</td>\n",
              "      <td>176186.441099</td>\n",
              "    </tr>\n",
              "    <tr>\n",
              "      <th>183</th>\n",
              "      <td>4482</td>\n",
              "      <td>2021-06-20 13:32:40.680009</td>\n",
              "      <td>11.806548</td>\n",
              "      <td>0.048397</td>\n",
              "      <td>0.063693</td>\n",
              "      <td>237507.100000</td>\n",
              "      <td>0.048397</td>\n",
              "      <td>284514.897162</td>\n",
              "    </tr>\n",
              "    <tr>\n",
              "      <th>6000</th>\n",
              "      <td>1954</td>\n",
              "      <td>2021-08-23 13:11:46.041586</td>\n",
              "      <td>11.623994</td>\n",
              "      <td>-0.000916</td>\n",
              "      <td>-0.015116</td>\n",
              "      <td>110563.650000</td>\n",
              "      <td>-0.000916</td>\n",
              "      <td>93740.117710</td>\n",
              "    </tr>\n",
              "    <tr>\n",
              "      <th>5169</th>\n",
              "      <td>4664</td>\n",
              "      <td>2021-08-02 16:08:58.340632</td>\n",
              "      <td>10.716524</td>\n",
              "      <td>-0.007416</td>\n",
              "      <td>0.026015</td>\n",
              "      <td>41649.673000</td>\n",
              "      <td>-0.007416</td>\n",
              "      <td>59594.211983</td>\n",
              "    </tr>\n",
              "    <tr>\n",
              "      <th>3792</th>\n",
              "      <td>1177</td>\n",
              "      <td>2021-06-21 08:19:22.562350</td>\n",
              "      <td>9.928203</td>\n",
              "      <td>-0.010739</td>\n",
              "      <td>-0.006196</td>\n",
              "      <td>18427.275000</td>\n",
              "      <td>-0.010739</td>\n",
              "      <td>19277.417620</td>\n",
              "    </tr>\n",
              "    <tr>\n",
              "      <th>2699</th>\n",
              "      <td>38</td>\n",
              "      <td>2021-06-05 17:58:05.571447</td>\n",
              "      <td>8.648170</td>\n",
              "      <td>0.028273</td>\n",
              "      <td>0.022045</td>\n",
              "      <td>7278.480000</td>\n",
              "      <td>0.028273</td>\n",
              "      <td>6896.866120</td>\n",
              "    </tr>\n",
              "    <tr>\n",
              "      <th>2457</th>\n",
              "      <td>7223</td>\n",
              "      <td>2021-06-01 18:15:06.021976</td>\n",
              "      <td>8.559655</td>\n",
              "      <td>-0.031230</td>\n",
              "      <td>-0.015287</td>\n",
              "      <td>3993.140800</td>\n",
              "      <td>-0.031230</td>\n",
              "      <td>4577.010415</td>\n",
              "    </tr>\n",
              "  </tbody>\n",
              "</table>\n",
              "</div>\n",
              "      <button class=\"colab-df-convert\" onclick=\"convertToInteractive('df-514b5cda-15ef-4f74-b9b9-d1a1b0010aad')\"\n",
              "              title=\"Convert this dataframe to an interactive table.\"\n",
              "              style=\"display:none;\">\n",
              "        \n",
              "  <svg xmlns=\"http://www.w3.org/2000/svg\" height=\"24px\"viewBox=\"0 0 24 24\"\n",
              "       width=\"24px\">\n",
              "    <path d=\"M0 0h24v24H0V0z\" fill=\"none\"/>\n",
              "    <path d=\"M18.56 5.44l.94 2.06.94-2.06 2.06-.94-2.06-.94-.94-2.06-.94 2.06-2.06.94zm-11 1L8.5 8.5l.94-2.06 2.06-.94-2.06-.94L8.5 2.5l-.94 2.06-2.06.94zm10 10l.94 2.06.94-2.06 2.06-.94-2.06-.94-.94-2.06-.94 2.06-2.06.94z\"/><path d=\"M17.41 7.96l-1.37-1.37c-.4-.4-.92-.59-1.43-.59-.52 0-1.04.2-1.43.59L10.3 9.45l-7.72 7.72c-.78.78-.78 2.05 0 2.83L4 21.41c.39.39.9.59 1.41.59.51 0 1.02-.2 1.41-.59l7.78-7.78 2.81-2.81c.8-.78.8-2.07 0-2.86zM5.41 20L4 18.59l7.72-7.72 1.47 1.35L5.41 20z\"/>\n",
              "  </svg>\n",
              "      </button>\n",
              "      \n",
              "  <style>\n",
              "    .colab-df-container {\n",
              "      display:flex;\n",
              "      flex-wrap:wrap;\n",
              "      gap: 12px;\n",
              "    }\n",
              "\n",
              "    .colab-df-convert {\n",
              "      background-color: #E8F0FE;\n",
              "      border: none;\n",
              "      border-radius: 50%;\n",
              "      cursor: pointer;\n",
              "      display: none;\n",
              "      fill: #1967D2;\n",
              "      height: 32px;\n",
              "      padding: 0 0 0 0;\n",
              "      width: 32px;\n",
              "    }\n",
              "\n",
              "    .colab-df-convert:hover {\n",
              "      background-color: #E2EBFA;\n",
              "      box-shadow: 0px 1px 2px rgba(60, 64, 67, 0.3), 0px 1px 3px 1px rgba(60, 64, 67, 0.15);\n",
              "      fill: #174EA6;\n",
              "    }\n",
              "\n",
              "    [theme=dark] .colab-df-convert {\n",
              "      background-color: #3B4455;\n",
              "      fill: #D2E3FC;\n",
              "    }\n",
              "\n",
              "    [theme=dark] .colab-df-convert:hover {\n",
              "      background-color: #434B5C;\n",
              "      box-shadow: 0px 1px 3px 1px rgba(0, 0, 0, 0.15);\n",
              "      filter: drop-shadow(0px 1px 2px rgba(0, 0, 0, 0.3));\n",
              "      fill: #FFFFFF;\n",
              "    }\n",
              "  </style>\n",
              "\n",
              "      <script>\n",
              "        const buttonEl =\n",
              "          document.querySelector('#df-514b5cda-15ef-4f74-b9b9-d1a1b0010aad button.colab-df-convert');\n",
              "        buttonEl.style.display =\n",
              "          google.colab.kernel.accessAllowed ? 'block' : 'none';\n",
              "\n",
              "        async function convertToInteractive(key) {\n",
              "          const element = document.querySelector('#df-514b5cda-15ef-4f74-b9b9-d1a1b0010aad');\n",
              "          const dataTable =\n",
              "            await google.colab.kernel.invokeFunction('convertToInteractive',\n",
              "                                                     [key], {});\n",
              "          if (!dataTable) return;\n",
              "\n",
              "          const docLinkHtml = 'Like what you see? Visit the ' +\n",
              "            '<a target=\"_blank\" href=https://colab.research.google.com/notebooks/data_table.ipynb>data table notebook</a>'\n",
              "            + ' to learn more about interactive tables.';\n",
              "          element.innerHTML = '';\n",
              "          dataTable['output_type'] = 'display_data';\n",
              "          await google.colab.output.renderOutput(dataTable, element);\n",
              "          const docLink = document.createElement('div');\n",
              "          docLink.innerHTML = docLinkHtml;\n",
              "          element.appendChild(docLink);\n",
              "        }\n",
              "      </script>\n",
              "    </div>\n",
              "  </div>\n",
              "  "
            ]
          },
          "metadata": {},
          "execution_count": 93
        }
      ],
      "source": [
        "#printing final result with important columns and predicted price\n",
        "predicted_merged = df.merge(predict_df, how='left', left_index=True, right_index=True)\n",
        "predicted_merged = predicted_merged.loc[~predicted_merged['Predicted'].isna()]\n",
        "\n",
        "cols = predicted_merged.columns[0:]\n",
        "pm = predicted_merged.loc[:, ['TokenId', 'SaleDate', 'LogUSDPriceEWM', 'Actual', 'Predicted', 'USDPrice', 'PctExtensionEWM']]\n",
        "\n",
        "#converting back from log price * log price ^ predicted exponent\n",
        "pm['PredictedUSDPrice'] = np.exp(pm['LogUSDPriceEWM'] * (1 + pm['Predicted']))\n",
        "\n",
        "pm.sample(10)"
      ]
    },
    {
      "cell_type": "code",
      "source": [
        "#accuracy measure from 0 to 1\n",
        "pm['Accuracy'] = 1 - abs(pm['PredictedUSDPrice'] - pm['USDPrice']) / ((pm['PredictedUSDPrice'] + pm['USDPrice']) / 2)\n",
        "pm.sort_values('Accuracy', ascending=False).tail(10)"
      ],
      "metadata": {
        "colab": {
          "base_uri": "https://localhost:8080/",
          "height": 363
        },
        "id": "7UqEK8zTdY1h",
        "outputId": "079f9181-779b-4123-e4c0-d56dbca2e806"
      },
      "execution_count": null,
      "outputs": [
        {
          "output_type": "execute_result",
          "data": {
            "text/plain": [
              "      TokenId                   SaleDate  LogUSDPriceEWM    Actual  Predicted  \\\n",
              "18       6833 2021-05-01 22:25:32.729835        8.998379  0.001952   0.173976   \n",
              "672      4749 2021-05-02 16:37:23.040381        7.761045  0.161691  -0.042044   \n",
              "7946     4734 2021-11-22 12:43:00.966301       12.230032  0.038962   0.169217   \n",
              "253       185 2021-08-02 01:02:58.091324       11.947701 -0.004963   0.132790   \n",
              "66       8350 2021-05-01 09:17:57.379578        6.600820 -0.044125   0.002665   \n",
              "334      3749 2021-09-06 21:02:49.694425       13.574374 -0.060251  -0.025458   \n",
              "113      7318 2021-05-01 10:35:01.916004        6.813188  0.060553   0.191913   \n",
              "252      4281 2021-08-01 16:34:16.375162       12.241928 -0.030148   0.115779   \n",
              "6635     7130 2021-09-03 07:07:08.242456       12.233287  0.026311   0.173673   \n",
              "349      2087 2021-09-30 01:29:04.799542       12.913732 -0.022428  -0.011377   \n",
              "\n",
              "          USDPrice  PctExtensionEWM  PredictedUSDPrice  Accuracy  \n",
              "18    8.233280e+03         0.001952       3.871097e+04 -0.298463  \n",
              "672   8.233280e+03         0.161691       1.693812e+03 -0.317499  \n",
              "7946  3.298984e+05         0.038962       1.622643e+06 -0.324166  \n",
              "253   1.455696e+05        -0.004963       7.548188e+05 -0.353303  \n",
              "66    4.075474e+03         0.259350       7.487541e+02 -0.379172  \n",
              "334   3.030263e+06         0.099436       5.561541e+05 -0.379711  \n",
              "113   6.170843e+02        -0.056975       3.363467e+03 -0.379901  \n",
              "252   1.433232e+05        -0.030148       8.553724e+05 -0.425958  \n",
              "6635  2.835542e+05         0.026311       1.720079e+06 -0.433920  \n",
              "349   3.149017e+06         0.158658       3.503917e+05 -0.599485  "
            ],
            "text/html": [
              "\n",
              "  <div id=\"df-f73ee70e-a615-4e30-ac19-e6ab02b1df3e\">\n",
              "    <div class=\"colab-df-container\">\n",
              "      <div>\n",
              "<style scoped>\n",
              "    .dataframe tbody tr th:only-of-type {\n",
              "        vertical-align: middle;\n",
              "    }\n",
              "\n",
              "    .dataframe tbody tr th {\n",
              "        vertical-align: top;\n",
              "    }\n",
              "\n",
              "    .dataframe thead th {\n",
              "        text-align: right;\n",
              "    }\n",
              "</style>\n",
              "<table border=\"1\" class=\"dataframe\">\n",
              "  <thead>\n",
              "    <tr style=\"text-align: right;\">\n",
              "      <th></th>\n",
              "      <th>TokenId</th>\n",
              "      <th>SaleDate</th>\n",
              "      <th>LogUSDPriceEWM</th>\n",
              "      <th>Actual</th>\n",
              "      <th>Predicted</th>\n",
              "      <th>USDPrice</th>\n",
              "      <th>PctExtensionEWM</th>\n",
              "      <th>PredictedUSDPrice</th>\n",
              "      <th>Accuracy</th>\n",
              "    </tr>\n",
              "  </thead>\n",
              "  <tbody>\n",
              "    <tr>\n",
              "      <th>18</th>\n",
              "      <td>6833</td>\n",
              "      <td>2021-05-01 22:25:32.729835</td>\n",
              "      <td>8.998379</td>\n",
              "      <td>0.001952</td>\n",
              "      <td>0.173976</td>\n",
              "      <td>8.233280e+03</td>\n",
              "      <td>0.001952</td>\n",
              "      <td>3.871097e+04</td>\n",
              "      <td>-0.298463</td>\n",
              "    </tr>\n",
              "    <tr>\n",
              "      <th>672</th>\n",
              "      <td>4749</td>\n",
              "      <td>2021-05-02 16:37:23.040381</td>\n",
              "      <td>7.761045</td>\n",
              "      <td>0.161691</td>\n",
              "      <td>-0.042044</td>\n",
              "      <td>8.233280e+03</td>\n",
              "      <td>0.161691</td>\n",
              "      <td>1.693812e+03</td>\n",
              "      <td>-0.317499</td>\n",
              "    </tr>\n",
              "    <tr>\n",
              "      <th>7946</th>\n",
              "      <td>4734</td>\n",
              "      <td>2021-11-22 12:43:00.966301</td>\n",
              "      <td>12.230032</td>\n",
              "      <td>0.038962</td>\n",
              "      <td>0.169217</td>\n",
              "      <td>3.298984e+05</td>\n",
              "      <td>0.038962</td>\n",
              "      <td>1.622643e+06</td>\n",
              "      <td>-0.324166</td>\n",
              "    </tr>\n",
              "    <tr>\n",
              "      <th>253</th>\n",
              "      <td>185</td>\n",
              "      <td>2021-08-02 01:02:58.091324</td>\n",
              "      <td>11.947701</td>\n",
              "      <td>-0.004963</td>\n",
              "      <td>0.132790</td>\n",
              "      <td>1.455696e+05</td>\n",
              "      <td>-0.004963</td>\n",
              "      <td>7.548188e+05</td>\n",
              "      <td>-0.353303</td>\n",
              "    </tr>\n",
              "    <tr>\n",
              "      <th>66</th>\n",
              "      <td>8350</td>\n",
              "      <td>2021-05-01 09:17:57.379578</td>\n",
              "      <td>6.600820</td>\n",
              "      <td>-0.044125</td>\n",
              "      <td>0.002665</td>\n",
              "      <td>4.075474e+03</td>\n",
              "      <td>0.259350</td>\n",
              "      <td>7.487541e+02</td>\n",
              "      <td>-0.379172</td>\n",
              "    </tr>\n",
              "    <tr>\n",
              "      <th>334</th>\n",
              "      <td>3749</td>\n",
              "      <td>2021-09-06 21:02:49.694425</td>\n",
              "      <td>13.574374</td>\n",
              "      <td>-0.060251</td>\n",
              "      <td>-0.025458</td>\n",
              "      <td>3.030263e+06</td>\n",
              "      <td>0.099436</td>\n",
              "      <td>5.561541e+05</td>\n",
              "      <td>-0.379711</td>\n",
              "    </tr>\n",
              "    <tr>\n",
              "      <th>113</th>\n",
              "      <td>7318</td>\n",
              "      <td>2021-05-01 10:35:01.916004</td>\n",
              "      <td>6.813188</td>\n",
              "      <td>0.060553</td>\n",
              "      <td>0.191913</td>\n",
              "      <td>6.170843e+02</td>\n",
              "      <td>-0.056975</td>\n",
              "      <td>3.363467e+03</td>\n",
              "      <td>-0.379901</td>\n",
              "    </tr>\n",
              "    <tr>\n",
              "      <th>252</th>\n",
              "      <td>4281</td>\n",
              "      <td>2021-08-01 16:34:16.375162</td>\n",
              "      <td>12.241928</td>\n",
              "      <td>-0.030148</td>\n",
              "      <td>0.115779</td>\n",
              "      <td>1.433232e+05</td>\n",
              "      <td>-0.030148</td>\n",
              "      <td>8.553724e+05</td>\n",
              "      <td>-0.425958</td>\n",
              "    </tr>\n",
              "    <tr>\n",
              "      <th>6635</th>\n",
              "      <td>7130</td>\n",
              "      <td>2021-09-03 07:07:08.242456</td>\n",
              "      <td>12.233287</td>\n",
              "      <td>0.026311</td>\n",
              "      <td>0.173673</td>\n",
              "      <td>2.835542e+05</td>\n",
              "      <td>0.026311</td>\n",
              "      <td>1.720079e+06</td>\n",
              "      <td>-0.433920</td>\n",
              "    </tr>\n",
              "    <tr>\n",
              "      <th>349</th>\n",
              "      <td>2087</td>\n",
              "      <td>2021-09-30 01:29:04.799542</td>\n",
              "      <td>12.913732</td>\n",
              "      <td>-0.022428</td>\n",
              "      <td>-0.011377</td>\n",
              "      <td>3.149017e+06</td>\n",
              "      <td>0.158658</td>\n",
              "      <td>3.503917e+05</td>\n",
              "      <td>-0.599485</td>\n",
              "    </tr>\n",
              "  </tbody>\n",
              "</table>\n",
              "</div>\n",
              "      <button class=\"colab-df-convert\" onclick=\"convertToInteractive('df-f73ee70e-a615-4e30-ac19-e6ab02b1df3e')\"\n",
              "              title=\"Convert this dataframe to an interactive table.\"\n",
              "              style=\"display:none;\">\n",
              "        \n",
              "  <svg xmlns=\"http://www.w3.org/2000/svg\" height=\"24px\"viewBox=\"0 0 24 24\"\n",
              "       width=\"24px\">\n",
              "    <path d=\"M0 0h24v24H0V0z\" fill=\"none\"/>\n",
              "    <path d=\"M18.56 5.44l.94 2.06.94-2.06 2.06-.94-2.06-.94-.94-2.06-.94 2.06-2.06.94zm-11 1L8.5 8.5l.94-2.06 2.06-.94-2.06-.94L8.5 2.5l-.94 2.06-2.06.94zm10 10l.94 2.06.94-2.06 2.06-.94-2.06-.94-.94-2.06-.94 2.06-2.06.94z\"/><path d=\"M17.41 7.96l-1.37-1.37c-.4-.4-.92-.59-1.43-.59-.52 0-1.04.2-1.43.59L10.3 9.45l-7.72 7.72c-.78.78-.78 2.05 0 2.83L4 21.41c.39.39.9.59 1.41.59.51 0 1.02-.2 1.41-.59l7.78-7.78 2.81-2.81c.8-.78.8-2.07 0-2.86zM5.41 20L4 18.59l7.72-7.72 1.47 1.35L5.41 20z\"/>\n",
              "  </svg>\n",
              "      </button>\n",
              "      \n",
              "  <style>\n",
              "    .colab-df-container {\n",
              "      display:flex;\n",
              "      flex-wrap:wrap;\n",
              "      gap: 12px;\n",
              "    }\n",
              "\n",
              "    .colab-df-convert {\n",
              "      background-color: #E8F0FE;\n",
              "      border: none;\n",
              "      border-radius: 50%;\n",
              "      cursor: pointer;\n",
              "      display: none;\n",
              "      fill: #1967D2;\n",
              "      height: 32px;\n",
              "      padding: 0 0 0 0;\n",
              "      width: 32px;\n",
              "    }\n",
              "\n",
              "    .colab-df-convert:hover {\n",
              "      background-color: #E2EBFA;\n",
              "      box-shadow: 0px 1px 2px rgba(60, 64, 67, 0.3), 0px 1px 3px 1px rgba(60, 64, 67, 0.15);\n",
              "      fill: #174EA6;\n",
              "    }\n",
              "\n",
              "    [theme=dark] .colab-df-convert {\n",
              "      background-color: #3B4455;\n",
              "      fill: #D2E3FC;\n",
              "    }\n",
              "\n",
              "    [theme=dark] .colab-df-convert:hover {\n",
              "      background-color: #434B5C;\n",
              "      box-shadow: 0px 1px 3px 1px rgba(0, 0, 0, 0.15);\n",
              "      filter: drop-shadow(0px 1px 2px rgba(0, 0, 0, 0.3));\n",
              "      fill: #FFFFFF;\n",
              "    }\n",
              "  </style>\n",
              "\n",
              "      <script>\n",
              "        const buttonEl =\n",
              "          document.querySelector('#df-f73ee70e-a615-4e30-ac19-e6ab02b1df3e button.colab-df-convert');\n",
              "        buttonEl.style.display =\n",
              "          google.colab.kernel.accessAllowed ? 'block' : 'none';\n",
              "\n",
              "        async function convertToInteractive(key) {\n",
              "          const element = document.querySelector('#df-f73ee70e-a615-4e30-ac19-e6ab02b1df3e');\n",
              "          const dataTable =\n",
              "            await google.colab.kernel.invokeFunction('convertToInteractive',\n",
              "                                                     [key], {});\n",
              "          if (!dataTable) return;\n",
              "\n",
              "          const docLinkHtml = 'Like what you see? Visit the ' +\n",
              "            '<a target=\"_blank\" href=https://colab.research.google.com/notebooks/data_table.ipynb>data table notebook</a>'\n",
              "            + ' to learn more about interactive tables.';\n",
              "          element.innerHTML = '';\n",
              "          dataTable['output_type'] = 'display_data';\n",
              "          await google.colab.output.renderOutput(dataTable, element);\n",
              "          const docLink = document.createElement('div');\n",
              "          docLink.innerHTML = docLinkHtml;\n",
              "          element.appendChild(docLink);\n",
              "        }\n",
              "      </script>\n",
              "    </div>\n",
              "  </div>\n",
              "  "
            ]
          },
          "metadata": {},
          "execution_count": 94
        }
      ]
    },
    {
      "cell_type": "code",
      "source": [
        "#plotting how accuracy distribution because summing up the accuracies will not give correct result\n",
        "fig, ax = plt.subplots()\n",
        "ax = sns.histplot(pm['Accuracy'])\n",
        "plt.show()"
      ],
      "metadata": {
        "colab": {
          "base_uri": "https://localhost:8080/",
          "height": 282
        },
        "id": "b78CeeKFdfP3",
        "outputId": "c674089b-3fb5-4804-eed7-c6da8ce53422"
      },
      "execution_count": null,
      "outputs": [
        {
          "output_type": "display_data",
          "data": {
            "text/plain": [
              "<Figure size 432x288 with 1 Axes>"
            ],
            "image/png": "[encoded data removed]"
          },
          "metadata": {
            "needs_background": "light"
          }
        }
      ]
    },
    {
      "cell_type": "markdown",
      "source": [
        "### Ranking best features based on Random forest\n",
        "\n",
        "Since I was working with traits instead of time series analysis, I thought It would also help in showing what traits play the biggest role in classifcation i.e have the highest information gain so to say"
      ],
      "metadata": {
        "id": "pMNmPr1mfOQL"
      }
    },
    {
      "cell_type": "code",
      "execution_count": null,
      "metadata": {
        "id": "seSUWYDmKdoc"
      },
      "outputs": [],
      "source": [
        "X = X_train.drop(columns=['OutlierRule', 'Outlier'])\n",
        "forest = RandomForestRegressor(n_estimators=200).fit(X, y_train)"
      ]
    },
    {
      "cell_type": "code",
      "execution_count": null,
      "metadata": {
        "id": "8v4PNhv4Kdoc"
      },
      "outputs": [],
      "source": [
        "importance = pd.DataFrame({'Importance': forest.feature_importances_}, index=X.columns)\n",
        "top_importance = importance.sort_values('Importance', ascending=False).head(15)\n",
        "#descing order of feature importance for classificiation"
      ]
    },
    {
      "cell_type": "code",
      "execution_count": null,
      "metadata": {
        "id": "z5FZnYFPKdoc",
        "outputId": "d1560a78-cd9c-458d-91df-5ec1f36a9b7a",
        "colab": {
          "base_uri": "https://localhost:8080/",
          "height": 756
        }
      },
      "outputs": [
        {
          "output_type": "display_data",
          "data": {
            "text/plain": [
              "<Figure size 1008x720 with 1 Axes>"
            ],
            "image/png": "[encoded data removed]"
          },
          "metadata": {
            "needs_background": "light"
          }
        }
      ],
      "source": [
        "fig, ax = plt.subplots(figsize=(14,10))\n",
        "ax = sns.barplot(x=top_importance.index, y='Importance', data=top_importance)\n",
        "ax.set_title('Feature Importances')\n",
        "plt.xticks(rotation=90)\n",
        "plt.show()"
      ]
    },
    {
      "cell_type": "markdown",
      "source": [
        "## A deep learning approach"
      ],
      "metadata": {
        "id": "_C5M3hVvHPzS"
      }
    },
    {
      "cell_type": "code",
      "source": [
        "import datetime\n",
        "import time\n",
        "from sklearn.model_selection import train_test_split\n",
        "from sklearn.linear_model import LinearRegression\n",
        "from sklearn.metrics import mean_squared_error\n",
        "from sklearn import preprocessing\n",
        "from sklearn.preprocessing import MinMaxScaler\n",
        "from sklearn.preprocessing import StandardScaler\n",
        "from tensorflow.keras.models import Sequential\n",
        "from tensorflow.keras.layers import Dense\n",
        "from tensorflow.keras.layers import LSTM\n",
        "from tensorflow.keras.layers import Dropout"
      ],
      "metadata": {
        "id": "dnyihgleWHgU"
      },
      "execution_count": null,
      "outputs": []
    },
    {
      "cell_type": "markdown",
      "source": [
        "Preprocessing Date Attribute"
      ],
      "metadata": {
        "id": "rmp3pUK8PIaZ"
      }
    },
    {
      "cell_type": "code",
      "source": [
        "df[\"SaleDate\"] = df[\"SaleDate\"].apply(lambda x: x.timestamp())\n",
        "df.head()"
      ],
      "metadata": {
        "colab": {
          "base_uri": "https://localhost:8080/",
          "height": 421
        },
        "id": "7tk7v5649DHv",
        "outputId": "8d20fb76-1a91-4617-ed67-1b8743c43c91"
      },
      "execution_count": null,
      "outputs": [
        {
          "output_type": "execute_result",
          "data": {
            "text/plain": [
              "   TokenId  LastSalePrice  Background  BackgroundRarity      Earring  \\\n",
              "0      742           0.12      Purple            0.1291            1   \n",
              "1      832           0.12        Blue            0.1242            1   \n",
              "2     1026           0.09      Orange            0.1273            1   \n",
              "3     1150           0.50      Purple            0.1291            1   \n",
              "4     1685           0.18  Aquamarine            0.1266  Silver Hoop   \n",
              "\n",
              "   EarringRarity           Fur  FurRarity        Eyes  EyesRarity  ...  \\\n",
              "0         1.0000       Cheetah     0.0406  Sunglasses      0.0352  ...   \n",
              "1         1.0000  Golden Brown     0.0778  Sunglasses      0.0352  ...   \n",
              "2         1.0000  Golden Brown     0.0778       Bored      0.1714  ...   \n",
              "3         1.0000    Dark Brown     0.1352      Closed      0.0710  ...   \n",
              "4         0.0882        Zombie     0.0302       Crazy      0.0407  ...   \n",
              "\n",
              "               Clothes  ClothesRarity                Hat  HatRarity  \\\n",
              "0              Tanktop         0.0235  Sea Captain's Hat     0.0304   \n",
              "1         Caveman Pelt         0.0163       Bandana Blue     0.0089   \n",
              "2  Leather Punk Jacket         0.0153                  1     1.0000   \n",
              "3       Vietnam Jacket         0.0224      Laurel Wreath     0.0072   \n",
              "4                    1         1.0000             Beanie     0.0578   \n",
              "\n",
              "  LastSaleToken  NumberOfSales      SaleDate   USDPrice  LogUSDPrice  Outlier  \n",
              "0         Ether            1.0  1.619837e+09   491.3940     6.197246        1  \n",
              "1         Ether            1.0  1.619837e+09   491.3940     6.197246        1  \n",
              "2         Ether            1.0  1.619843e+09   368.5455     5.909564        1  \n",
              "3         Ether            1.0  1.619845e+09  2047.4750     7.624363        1  \n",
              "4         Ether            1.0  1.619851e+09   737.0910     6.602711        1  \n",
              "\n",
              "[5 rows x 22 columns]"
            ],
            "text/html": [
              "\n",
              "  <div id=\"df-77b82af9-de0a-4cd7-befc-92a3e2512aa9\">\n",
              "    <div class=\"colab-df-container\">\n",
              "      <div>\n",
              "<style scoped>\n",
              "    .dataframe tbody tr th:only-of-type {\n",
              "        vertical-align: middle;\n",
              "    }\n",
              "\n",
              "    .dataframe tbody tr th {\n",
              "        vertical-align: top;\n",
              "    }\n",
              "\n",
              "    .dataframe thead th {\n",
              "        text-align: right;\n",
              "    }\n",
              "</style>\n",
              "<table border=\"1\" class=\"dataframe\">\n",
              "  <thead>\n",
              "    <tr style=\"text-align: right;\">\n",
              "      <th></th>\n",
              "      <th>TokenId</th>\n",
              "      <th>LastSalePrice</th>\n",
              "      <th>Background</th>\n",
              "      <th>BackgroundRarity</th>\n",
              "      <th>Earring</th>\n",
              "      <th>EarringRarity</th>\n",
              "      <th>Fur</th>\n",
              "      <th>FurRarity</th>\n",
              "      <th>Eyes</th>\n",
              "      <th>EyesRarity</th>\n",
              "      <th>...</th>\n",
              "      <th>Clothes</th>\n",
              "      <th>ClothesRarity</th>\n",
              "      <th>Hat</th>\n",
              "      <th>HatRarity</th>\n",
              "      <th>LastSaleToken</th>\n",
              "      <th>NumberOfSales</th>\n",
              "      <th>SaleDate</th>\n",
              "      <th>USDPrice</th>\n",
              "      <th>LogUSDPrice</th>\n",
              "      <th>Outlier</th>\n",
              "    </tr>\n",
              "  </thead>\n",
              "  <tbody>\n",
              "    <tr>\n",
              "      <th>0</th>\n",
              "      <td>742</td>\n",
              "      <td>0.12</td>\n",
              "      <td>Purple</td>\n",
              "      <td>0.1291</td>\n",
              "      <td>1</td>\n",
              "      <td>1.0000</td>\n",
              "      <td>Cheetah</td>\n",
              "      <td>0.0406</td>\n",
              "      <td>Sunglasses</td>\n",
              "      <td>0.0352</td>\n",
              "      <td>...</td>\n",
              "      <td>Tanktop</td>\n",
              "      <td>0.0235</td>\n",
              "      <td>Sea Captain's Hat</td>\n",
              "      <td>0.0304</td>\n",
              "      <td>Ether</td>\n",
              "      <td>1.0</td>\n",
              "      <td>1.619837e+09</td>\n",
              "      <td>491.3940</td>\n",
              "      <td>6.197246</td>\n",
              "      <td>1</td>\n",
              "    </tr>\n",
              "    <tr>\n",
              "      <th>1</th>\n",
              "      <td>832</td>\n",
              "      <td>0.12</td>\n",
              "      <td>Blue</td>\n",
              "      <td>0.1242</td>\n",
              "      <td>1</td>\n",
              "      <td>1.0000</td>\n",
              "      <td>Golden Brown</td>\n",
              "      <td>0.0778</td>\n",
              "      <td>Sunglasses</td>\n",
              "      <td>0.0352</td>\n",
              "      <td>...</td>\n",
              "      <td>Caveman Pelt</td>\n",
              "      <td>0.0163</td>\n",
              "      <td>Bandana Blue</td>\n",
              "      <td>0.0089</td>\n",
              "      <td>Ether</td>\n",
              "      <td>1.0</td>\n",
              "      <td>1.619837e+09</td>\n",
              "      <td>491.3940</td>\n",
              "      <td>6.197246</td>\n",
              "      <td>1</td>\n",
              "    </tr>\n",
              "    <tr>\n",
              "      <th>2</th>\n",
              "      <td>1026</td>\n",
              "      <td>0.09</td>\n",
              "      <td>Orange</td>\n",
              "      <td>0.1273</td>\n",
              "      <td>1</td>\n",
              "      <td>1.0000</td>\n",
              "      <td>Golden Brown</td>\n",
              "      <td>0.0778</td>\n",
              "      <td>Bored</td>\n",
              "      <td>0.1714</td>\n",
              "      <td>...</td>\n",
              "      <td>Leather Punk Jacket</td>\n",
              "      <td>0.0153</td>\n",
              "      <td>1</td>\n",
              "      <td>1.0000</td>\n",
              "      <td>Ether</td>\n",
              "      <td>1.0</td>\n",
              "      <td>1.619843e+09</td>\n",
              "      <td>368.5455</td>\n",
              "      <td>5.909564</td>\n",
              "      <td>1</td>\n",
              "    </tr>\n",
              "    <tr>\n",
              "      <th>3</th>\n",
              "      <td>1150</td>\n",
              "      <td>0.50</td>\n",
              "      <td>Purple</td>\n",
              "      <td>0.1291</td>\n",
              "      <td>1</td>\n",
              "      <td>1.0000</td>\n",
              "      <td>Dark Brown</td>\n",
              "      <td>0.1352</td>\n",
              "      <td>Closed</td>\n",
              "      <td>0.0710</td>\n",
              "      <td>...</td>\n",
              "      <td>Vietnam Jacket</td>\n",
              "      <td>0.0224</td>\n",
              "      <td>Laurel Wreath</td>\n",
              "      <td>0.0072</td>\n",
              "      <td>Ether</td>\n",
              "      <td>1.0</td>\n",
              "      <td>1.619845e+09</td>\n",
              "      <td>2047.4750</td>\n",
              "      <td>7.624363</td>\n",
              "      <td>1</td>\n",
              "    </tr>\n",
              "    <tr>\n",
              "      <th>4</th>\n",
              "      <td>1685</td>\n",
              "      <td>0.18</td>\n",
              "      <td>Aquamarine</td>\n",
              "      <td>0.1266</td>\n",
              "      <td>Silver Hoop</td>\n",
              "      <td>0.0882</td>\n",
              "      <td>Zombie</td>\n",
              "      <td>0.0302</td>\n",
              "      <td>Crazy</td>\n",
              "      <td>0.0407</td>\n",
              "      <td>...</td>\n",
              "      <td>1</td>\n",
              "      <td>1.0000</td>\n",
              "      <td>Beanie</td>\n",
              "      <td>0.0578</td>\n",
              "      <td>Ether</td>\n",
              "      <td>1.0</td>\n",
              "      <td>1.619851e+09</td>\n",
              "      <td>737.0910</td>\n",
              "      <td>6.602711</td>\n",
              "      <td>1</td>\n",
              "    </tr>\n",
              "  </tbody>\n",
              "</table>\n",
              "<p>5 rows × 22 columns</p>\n",
              "</div>\n",
              "      <button class=\"colab-df-convert\" onclick=\"convertToInteractive('df-77b82af9-de0a-4cd7-befc-92a3e2512aa9')\"\n",
              "              title=\"Convert this dataframe to an interactive table.\"\n",
              "              style=\"display:none;\">\n",
              "        \n",
              "  <svg xmlns=\"http://www.w3.org/2000/svg\" height=\"24px\"viewBox=\"0 0 24 24\"\n",
              "       width=\"24px\">\n",
              "    <path d=\"M0 0h24v24H0V0z\" fill=\"none\"/>\n",
              "    <path d=\"M18.56 5.44l.94 2.06.94-2.06 2.06-.94-2.06-.94-.94-2.06-.94 2.06-2.06.94zm-11 1L8.5 8.5l.94-2.06 2.06-.94-2.06-.94L8.5 2.5l-.94 2.06-2.06.94zm10 10l.94 2.06.94-2.06 2.06-.94-2.06-.94-.94-2.06-.94 2.06-2.06.94z\"/><path d=\"M17.41 7.96l-1.37-1.37c-.4-.4-.92-.59-1.43-.59-.52 0-1.04.2-1.43.59L10.3 9.45l-7.72 7.72c-.78.78-.78 2.05 0 2.83L4 21.41c.39.39.9.59 1.41.59.51 0 1.02-.2 1.41-.59l7.78-7.78 2.81-2.81c.8-.78.8-2.07 0-2.86zM5.41 20L4 18.59l7.72-7.72 1.47 1.35L5.41 20z\"/>\n",
              "  </svg>\n",
              "      </button>\n",
              "      \n",
              "  <style>\n",
              "    .colab-df-container {\n",
              "      display:flex;\n",
              "      flex-wrap:wrap;\n",
              "      gap: 12px;\n",
              "    }\n",
              "\n",
              "    .colab-df-convert {\n",
              "      background-color: #E8F0FE;\n",
              "      border: none;\n",
              "      border-radius: 50%;\n",
              "      cursor: pointer;\n",
              "      display: none;\n",
              "      fill: #1967D2;\n",
              "      height: 32px;\n",
              "      padding: 0 0 0 0;\n",
              "      width: 32px;\n",
              "    }\n",
              "\n",
              "    .colab-df-convert:hover {\n",
              "      background-color: #E2EBFA;\n",
              "      box-shadow: 0px 1px 2px rgba(60, 64, 67, 0.3), 0px 1px 3px 1px rgba(60, 64, 67, 0.15);\n",
              "      fill: #174EA6;\n",
              "    }\n",
              "\n",
              "    [theme=dark] .colab-df-convert {\n",
              "      background-color: #3B4455;\n",
              "      fill: #D2E3FC;\n",
              "    }\n",
              "\n",
              "    [theme=dark] .colab-df-convert:hover {\n",
              "      background-color: #434B5C;\n",
              "      box-shadow: 0px 1px 3px 1px rgba(0, 0, 0, 0.15);\n",
              "      filter: drop-shadow(0px 1px 2px rgba(0, 0, 0, 0.3));\n",
              "      fill: #FFFFFF;\n",
              "    }\n",
              "  </style>\n",
              "\n",
              "      <script>\n",
              "        const buttonEl =\n",
              "          document.querySelector('#df-77b82af9-de0a-4cd7-befc-92a3e2512aa9 button.colab-df-convert');\n",
              "        buttonEl.style.display =\n",
              "          google.colab.kernel.accessAllowed ? 'block' : 'none';\n",
              "\n",
              "        async function convertToInteractive(key) {\n",
              "          const element = document.querySelector('#df-77b82af9-de0a-4cd7-befc-92a3e2512aa9');\n",
              "          const dataTable =\n",
              "            await google.colab.kernel.invokeFunction('convertToInteractive',\n",
              "                                                     [key], {});\n",
              "          if (!dataTable) return;\n",
              "\n",
              "          const docLinkHtml = 'Like what you see? Visit the ' +\n",
              "            '<a target=\"_blank\" href=https://colab.research.google.com/notebooks/data_table.ipynb>data table notebook</a>'\n",
              "            + ' to learn more about interactive tables.';\n",
              "          element.innerHTML = '';\n",
              "          dataTable['output_type'] = 'display_data';\n",
              "          await google.colab.output.renderOutput(dataTable, element);\n",
              "          const docLink = document.createElement('div');\n",
              "          docLink.innerHTML = docLinkHtml;\n",
              "          element.appendChild(docLink);\n",
              "        }\n",
              "      </script>\n",
              "    </div>\n",
              "  </div>\n",
              "  "
            ]
          },
          "metadata": {},
          "execution_count": 41
        }
      ]
    },
    {
      "cell_type": "markdown",
      "source": [
        "Categorical Variable Handling"
      ],
      "metadata": {
        "id": "ldhrhkjvPPwk"
      }
    },
    {
      "cell_type": "code",
      "source": [
        "df = df.apply(lambda x: pd.factorize(x)[0] if x.name in ['Background', 'Earring', 'Fur', 'Eyes', 'Mouth', 'Clothes', 'Hat', 'LastSaleToken', ] else x)\n",
        "df"
      ],
      "metadata": {
        "colab": {
          "base_uri": "https://localhost:8080/",
          "height": 487
        },
        "id": "GQTZ8TNB7IHS",
        "outputId": "2feea0a7-f883-4e38-f55e-89b8a71ffda4"
      },
      "execution_count": null,
      "outputs": [
        {
          "output_type": "execute_result",
          "data": {
            "text/plain": [
              "      TokenId  LastSalePrice  Background  BackgroundRarity  Earring  \\\n",
              "0         742         0.1200           0            0.1291        0   \n",
              "1         832         0.1200           1            0.1242        0   \n",
              "2        1026         0.0900           2            0.1273        0   \n",
              "3        1150         0.5000           0            0.1291        0   \n",
              "4        1685         0.1800           3            0.1266        1   \n",
              "...       ...            ...         ...               ...      ...   \n",
              "8382      387        51.6969           1            0.1242        0   \n",
              "8383     8645        50.0000           3            0.1266        0   \n",
              "8384     2263        69.0000           1            0.1242        0   \n",
              "8385     7737        49.8800           2            0.1273        2   \n",
              "8386     7380        55.5000           4            0.1170        0   \n",
              "\n",
              "      EarringRarity  Fur  FurRarity  Eyes  EyesRarity  ...  Clothes  \\\n",
              "0            1.0000    0     0.0406     0      0.0352  ...        0   \n",
              "1            1.0000    1     0.0778     0      0.0352  ...        1   \n",
              "2            1.0000    1     0.0778     1      0.1714  ...        2   \n",
              "3            1.0000    2     0.1352     2      0.0710  ...        3   \n",
              "4            0.0882    3     0.0302     3      0.0407  ...        4   \n",
              "...             ...  ...        ...   ...         ...  ...      ...   \n",
              "8382         1.0000    6     0.0626    14      0.0549  ...       24   \n",
              "8383         1.0000    0     0.0406     1      0.1714  ...        4   \n",
              "8384         1.0000    2     0.1352     5      0.0233  ...       12   \n",
              "8385         0.0823    8     0.1229    11      0.0751  ...        2   \n",
              "8386         1.0000    4     0.1370     9      0.0479  ...       15   \n",
              "\n",
              "      ClothesRarity  Hat  HatRarity  LastSaleToken  NumberOfSales  \\\n",
              "0            0.0235    0     0.0304              0            1.0   \n",
              "1            0.0163    1     0.0089              0            1.0   \n",
              "2            0.0153    2     1.0000              0            1.0   \n",
              "3            0.0224    3     0.0072              0            1.0   \n",
              "4            1.0000    4     0.0578              0            1.0   \n",
              "...             ...  ...        ...            ...            ...   \n",
              "8382         0.0140   21     0.0182              0            7.0   \n",
              "8383         1.0000   24     0.0377              0            7.0   \n",
              "8384         0.0206    2     1.0000              0            2.0   \n",
              "8385         0.0153   27     0.0157              0            5.0   \n",
              "8386         0.0283   16     0.0318              0            2.0   \n",
              "\n",
              "          SaleDate      USDPrice  LogUSDPrice  Outlier  \n",
              "0     1.619837e+09     491.39400     6.197246        1  \n",
              "1     1.619837e+09     491.39400     6.197246        1  \n",
              "2     1.619843e+09     368.54550     5.909564        1  \n",
              "3     1.619845e+09    2047.47500     7.624363        1  \n",
              "4     1.619851e+09     737.09100     6.602711        1  \n",
              "...            ...           ...          ...      ...  \n",
              "8382  1.637953e+09  209041.58484    12.250288        1  \n",
              "8383  1.637959e+09  205505.50000    12.233228        1  \n",
              "8384  1.637965e+09  282551.55000    12.551616        1  \n",
              "8385  1.637967e+09  205338.00320    12.232413        1  \n",
              "8386  1.637988e+09  228473.52000    12.339176        1  \n",
              "\n",
              "[8387 rows x 22 columns]"
            ],
            "text/html": [
              "\n",
              "  <div id=\"df-9f167b60-bbf6-4f15-8d40-acca082698c5\">\n",
              "    <div class=\"colab-df-container\">\n",
              "      <div>\n",
              "<style scoped>\n",
              "    .dataframe tbody tr th:only-of-type {\n",
              "        vertical-align: middle;\n",
              "    }\n",
              "\n",
              "    .dataframe tbody tr th {\n",
              "        vertical-align: top;\n",
              "    }\n",
              "\n",
              "    .dataframe thead th {\n",
              "        text-align: right;\n",
              "    }\n",
              "</style>\n",
              "<table border=\"1\" class=\"dataframe\">\n",
              "  <thead>\n",
              "    <tr style=\"text-align: right;\">\n",
              "      <th></th>\n",
              "      <th>TokenId</th>\n",
              "      <th>LastSalePrice</th>\n",
              "      <th>Background</th>\n",
              "      <th>BackgroundRarity</th>\n",
              "      <th>Earring</th>\n",
              "      <th>EarringRarity</th>\n",
              "      <th>Fur</th>\n",
              "      <th>FurRarity</th>\n",
              "      <th>Eyes</th>\n",
              "      <th>EyesRarity</th>\n",
              "      <th>...</th>\n",
              "      <th>Clothes</th>\n",
              "      <th>ClothesRarity</th>\n",
              "      <th>Hat</th>\n",
              "      <th>HatRarity</th>\n",
              "      <th>LastSaleToken</th>\n",
              "      <th>NumberOfSales</th>\n",
              "      <th>SaleDate</th>\n",
              "      <th>USDPrice</th>\n",
              "      <th>LogUSDPrice</th>\n",
              "      <th>Outlier</th>\n",
              "    </tr>\n",
              "  </thead>\n",
              "  <tbody>\n",
              "    <tr>\n",
              "      <th>0</th>\n",
              "      <td>742</td>\n",
              "      <td>0.1200</td>\n",
              "      <td>0</td>\n",
              "      <td>0.1291</td>\n",
              "      <td>0</td>\n",
              "      <td>1.0000</td>\n",
              "      <td>0</td>\n",
              "      <td>0.0406</td>\n",
              "      <td>0</td>\n",
              "      <td>0.0352</td>\n",
              "      <td>...</td>\n",
              "      <td>0</td>\n",
              "      <td>0.0235</td>\n",
              "      <td>0</td>\n",
              "      <td>0.0304</td>\n",
              "      <td>0</td>\n",
              "      <td>1.0</td>\n",
              "      <td>1.619837e+09</td>\n",
              "      <td>491.39400</td>\n",
              "      <td>6.197246</td>\n",
              "      <td>1</td>\n",
              "    </tr>\n",
              "    <tr>\n",
              "      <th>1</th>\n",
              "      <td>832</td>\n",
              "      <td>0.1200</td>\n",
              "      <td>1</td>\n",
              "      <td>0.1242</td>\n",
              "      <td>0</td>\n",
              "      <td>1.0000</td>\n",
              "      <td>1</td>\n",
              "      <td>0.0778</td>\n",
              "      <td>0</td>\n",
              "      <td>0.0352</td>\n",
              "      <td>...</td>\n",
              "      <td>1</td>\n",
              "      <td>0.0163</td>\n",
              "      <td>1</td>\n",
              "      <td>0.0089</td>\n",
              "      <td>0</td>\n",
              "      <td>1.0</td>\n",
              "      <td>1.619837e+09</td>\n",
              "      <td>491.39400</td>\n",
              "      <td>6.197246</td>\n",
              "      <td>1</td>\n",
              "    </tr>\n",
              "    <tr>\n",
              "      <th>2</th>\n",
              "      <td>1026</td>\n",
              "      <td>0.0900</td>\n",
              "      <td>2</td>\n",
              "      <td>0.1273</td>\n",
              "      <td>0</td>\n",
              "      <td>1.0000</td>\n",
              "      <td>1</td>\n",
              "      <td>0.0778</td>\n",
              "      <td>1</td>\n",
              "      <td>0.1714</td>\n",
              "      <td>...</td>\n",
              "      <td>2</td>\n",
              "      <td>0.0153</td>\n",
              "      <td>2</td>\n",
              "      <td>1.0000</td>\n",
              "      <td>0</td>\n",
              "      <td>1.0</td>\n",
              "      <td>1.619843e+09</td>\n",
              "      <td>368.54550</td>\n",
              "      <td>5.909564</td>\n",
              "      <td>1</td>\n",
              "    </tr>\n",
              "    <tr>\n",
              "      <th>3</th>\n",
              "      <td>1150</td>\n",
              "      <td>0.5000</td>\n",
              "      <td>0</td>\n",
              "      <td>0.1291</td>\n",
              "      <td>0</td>\n",
              "      <td>1.0000</td>\n",
              "      <td>2</td>\n",
              "      <td>0.1352</td>\n",
              "      <td>2</td>\n",
              "      <td>0.0710</td>\n",
              "      <td>...</td>\n",
              "      <td>3</td>\n",
              "      <td>0.0224</td>\n",
              "      <td>3</td>\n",
              "      <td>0.0072</td>\n",
              "      <td>0</td>\n",
              "      <td>1.0</td>\n",
              "      <td>1.619845e+09</td>\n",
              "      <td>2047.47500</td>\n",
              "      <td>7.624363</td>\n",
              "      <td>1</td>\n",
              "    </tr>\n",
              "    <tr>\n",
              "      <th>4</th>\n",
              "      <td>1685</td>\n",
              "      <td>0.1800</td>\n",
              "      <td>3</td>\n",
              "      <td>0.1266</td>\n",
              "      <td>1</td>\n",
              "      <td>0.0882</td>\n",
              "      <td>3</td>\n",
              "      <td>0.0302</td>\n",
              "      <td>3</td>\n",
              "      <td>0.0407</td>\n",
              "      <td>...</td>\n",
              "      <td>4</td>\n",
              "      <td>1.0000</td>\n",
              "      <td>4</td>\n",
              "      <td>0.0578</td>\n",
              "      <td>0</td>\n",
              "      <td>1.0</td>\n",
              "      <td>1.619851e+09</td>\n",
              "      <td>737.09100</td>\n",
              "      <td>6.602711</td>\n",
              "      <td>1</td>\n",
              "    </tr>\n",
              "    <tr>\n",
              "      <th>...</th>\n",
              "      <td>...</td>\n",
              "      <td>...</td>\n",
              "      <td>...</td>\n",
              "      <td>...</td>\n",
              "      <td>...</td>\n",
              "      <td>...</td>\n",
              "      <td>...</td>\n",
              "      <td>...</td>\n",
              "      <td>...</td>\n",
              "      <td>...</td>\n",
              "      <td>...</td>\n",
              "      <td>...</td>\n",
              "      <td>...</td>\n",
              "      <td>...</td>\n",
              "      <td>...</td>\n",
              "      <td>...</td>\n",
              "      <td>...</td>\n",
              "      <td>...</td>\n",
              "      <td>...</td>\n",
              "      <td>...</td>\n",
              "      <td>...</td>\n",
              "    </tr>\n",
              "    <tr>\n",
              "      <th>8382</th>\n",
              "      <td>387</td>\n",
              "      <td>51.6969</td>\n",
              "      <td>1</td>\n",
              "      <td>0.1242</td>\n",
              "      <td>0</td>\n",
              "      <td>1.0000</td>\n",
              "      <td>6</td>\n",
              "      <td>0.0626</td>\n",
              "      <td>14</td>\n",
              "      <td>0.0549</td>\n",
              "      <td>...</td>\n",
              "      <td>24</td>\n",
              "      <td>0.0140</td>\n",
              "      <td>21</td>\n",
              "      <td>0.0182</td>\n",
              "      <td>0</td>\n",
              "      <td>7.0</td>\n",
              "      <td>1.637953e+09</td>\n",
              "      <td>209041.58484</td>\n",
              "      <td>12.250288</td>\n",
              "      <td>1</td>\n",
              "    </tr>\n",
              "    <tr>\n",
              "      <th>8383</th>\n",
              "      <td>8645</td>\n",
              "      <td>50.0000</td>\n",
              "      <td>3</td>\n",
              "      <td>0.1266</td>\n",
              "      <td>0</td>\n",
              "      <td>1.0000</td>\n",
              "      <td>0</td>\n",
              "      <td>0.0406</td>\n",
              "      <td>1</td>\n",
              "      <td>0.1714</td>\n",
              "      <td>...</td>\n",
              "      <td>4</td>\n",
              "      <td>1.0000</td>\n",
              "      <td>24</td>\n",
              "      <td>0.0377</td>\n",
              "      <td>0</td>\n",
              "      <td>7.0</td>\n",
              "      <td>1.637959e+09</td>\n",
              "      <td>205505.50000</td>\n",
              "      <td>12.233228</td>\n",
              "      <td>1</td>\n",
              "    </tr>\n",
              "    <tr>\n",
              "      <th>8384</th>\n",
              "      <td>2263</td>\n",
              "      <td>69.0000</td>\n",
              "      <td>1</td>\n",
              "      <td>0.1242</td>\n",
              "      <td>0</td>\n",
              "      <td>1.0000</td>\n",
              "      <td>2</td>\n",
              "      <td>0.1352</td>\n",
              "      <td>5</td>\n",
              "      <td>0.0233</td>\n",
              "      <td>...</td>\n",
              "      <td>12</td>\n",
              "      <td>0.0206</td>\n",
              "      <td>2</td>\n",
              "      <td>1.0000</td>\n",
              "      <td>0</td>\n",
              "      <td>2.0</td>\n",
              "      <td>1.637965e+09</td>\n",
              "      <td>282551.55000</td>\n",
              "      <td>12.551616</td>\n",
              "      <td>1</td>\n",
              "    </tr>\n",
              "    <tr>\n",
              "      <th>8385</th>\n",
              "      <td>7737</td>\n",
              "      <td>49.8800</td>\n",
              "      <td>2</td>\n",
              "      <td>0.1273</td>\n",
              "      <td>2</td>\n",
              "      <td>0.0823</td>\n",
              "      <td>8</td>\n",
              "      <td>0.1229</td>\n",
              "      <td>11</td>\n",
              "      <td>0.0751</td>\n",
              "      <td>...</td>\n",
              "      <td>2</td>\n",
              "      <td>0.0153</td>\n",
              "      <td>27</td>\n",
              "      <td>0.0157</td>\n",
              "      <td>0</td>\n",
              "      <td>5.0</td>\n",
              "      <td>1.637967e+09</td>\n",
              "      <td>205338.00320</td>\n",
              "      <td>12.232413</td>\n",
              "      <td>1</td>\n",
              "    </tr>\n",
              "    <tr>\n",
              "      <th>8386</th>\n",
              "      <td>7380</td>\n",
              "      <td>55.5000</td>\n",
              "      <td>4</td>\n",
              "      <td>0.1170</td>\n",
              "      <td>0</td>\n",
              "      <td>1.0000</td>\n",
              "      <td>4</td>\n",
              "      <td>0.1370</td>\n",
              "      <td>9</td>\n",
              "      <td>0.0479</td>\n",
              "      <td>...</td>\n",
              "      <td>15</td>\n",
              "      <td>0.0283</td>\n",
              "      <td>16</td>\n",
              "      <td>0.0318</td>\n",
              "      <td>0</td>\n",
              "      <td>2.0</td>\n",
              "      <td>1.637988e+09</td>\n",
              "      <td>228473.52000</td>\n",
              "      <td>12.339176</td>\n",
              "      <td>1</td>\n",
              "    </tr>\n",
              "  </tbody>\n",
              "</table>\n",
              "<p>8387 rows × 22 columns</p>\n",
              "</div>\n",
              "      <button class=\"colab-df-convert\" onclick=\"convertToInteractive('df-9f167b60-bbf6-4f15-8d40-acca082698c5')\"\n",
              "              title=\"Convert this dataframe to an interactive table.\"\n",
              "              style=\"display:none;\">\n",
              "        \n",
              "  <svg xmlns=\"http://www.w3.org/2000/svg\" height=\"24px\"viewBox=\"0 0 24 24\"\n",
              "       width=\"24px\">\n",
              "    <path d=\"M0 0h24v24H0V0z\" fill=\"none\"/>\n",
              "    <path d=\"M18.56 5.44l.94 2.06.94-2.06 2.06-.94-2.06-.94-.94-2.06-.94 2.06-2.06.94zm-11 1L8.5 8.5l.94-2.06 2.06-.94-2.06-.94L8.5 2.5l-.94 2.06-2.06.94zm10 10l.94 2.06.94-2.06 2.06-.94-2.06-.94-.94-2.06-.94 2.06-2.06.94z\"/><path d=\"M17.41 7.96l-1.37-1.37c-.4-.4-.92-.59-1.43-.59-.52 0-1.04.2-1.43.59L10.3 9.45l-7.72 7.72c-.78.78-.78 2.05 0 2.83L4 21.41c.39.39.9.59 1.41.59.51 0 1.02-.2 1.41-.59l7.78-7.78 2.81-2.81c.8-.78.8-2.07 0-2.86zM5.41 20L4 18.59l7.72-7.72 1.47 1.35L5.41 20z\"/>\n",
              "  </svg>\n",
              "      </button>\n",
              "      \n",
              "  <style>\n",
              "    .colab-df-container {\n",
              "      display:flex;\n",
              "      flex-wrap:wrap;\n",
              "      gap: 12px;\n",
              "    }\n",
              "\n",
              "    .colab-df-convert {\n",
              "      background-color: #E8F0FE;\n",
              "      border: none;\n",
              "      border-radius: 50%;\n",
              "      cursor: pointer;\n",
              "      display: none;\n",
              "      fill: #1967D2;\n",
              "      height: 32px;\n",
              "      padding: 0 0 0 0;\n",
              "      width: 32px;\n",
              "    }\n",
              "\n",
              "    .colab-df-convert:hover {\n",
              "      background-color: #E2EBFA;\n",
              "      box-shadow: 0px 1px 2px rgba(60, 64, 67, 0.3), 0px 1px 3px 1px rgba(60, 64, 67, 0.15);\n",
              "      fill: #174EA6;\n",
              "    }\n",
              "\n",
              "    [theme=dark] .colab-df-convert {\n",
              "      background-color: #3B4455;\n",
              "      fill: #D2E3FC;\n",
              "    }\n",
              "\n",
              "    [theme=dark] .colab-df-convert:hover {\n",
              "      background-color: #434B5C;\n",
              "      box-shadow: 0px 1px 3px 1px rgba(0, 0, 0, 0.15);\n",
              "      filter: drop-shadow(0px 1px 2px rgba(0, 0, 0, 0.3));\n",
              "      fill: #FFFFFF;\n",
              "    }\n",
              "  </style>\n",
              "\n",
              "      <script>\n",
              "        const buttonEl =\n",
              "          document.querySelector('#df-9f167b60-bbf6-4f15-8d40-acca082698c5 button.colab-df-convert');\n",
              "        buttonEl.style.display =\n",
              "          google.colab.kernel.accessAllowed ? 'block' : 'none';\n",
              "\n",
              "        async function convertToInteractive(key) {\n",
              "          const element = document.querySelector('#df-9f167b60-bbf6-4f15-8d40-acca082698c5');\n",
              "          const dataTable =\n",
              "            await google.colab.kernel.invokeFunction('convertToInteractive',\n",
              "                                                     [key], {});\n",
              "          if (!dataTable) return;\n",
              "\n",
              "          const docLinkHtml = 'Like what you see? Visit the ' +\n",
              "            '<a target=\"_blank\" href=https://colab.research.google.com/notebooks/data_table.ipynb>data table notebook</a>'\n",
              "            + ' to learn more about interactive tables.';\n",
              "          element.innerHTML = '';\n",
              "          dataTable['output_type'] = 'display_data';\n",
              "          await google.colab.output.renderOutput(dataTable, element);\n",
              "          const docLink = document.createElement('div');\n",
              "          docLink.innerHTML = docLinkHtml;\n",
              "          element.appendChild(docLink);\n",
              "        }\n",
              "      </script>\n",
              "    </div>\n",
              "  </div>\n",
              "  "
            ]
          },
          "metadata": {},
          "execution_count": 42
        }
      ]
    },
    {
      "cell_type": "markdown",
      "source": [
        "SPLITTING DATA INTO TRAIN AND TEST SET"
      ],
      "metadata": {
        "id": "udCqNhYdquOY"
      }
    },
    {
      "cell_type": "code",
      "source": [
        "x_train, x_test, y_train, y_test = train_test_split(df.loc[:, ~df.columns.isin(['LogUSDPrice', 'USDPrice'])], df.LogUSDPrice, test_size=0.2)"
      ],
      "metadata": {
        "id": "32w-FpXJqwOX"
      },
      "execution_count": null,
      "outputs": []
    },
    {
      "cell_type": "markdown",
      "source": [
        "Linear Regression"
      ],
      "metadata": {
        "id": "QkVCIwCgI-g0"
      }
    },
    {
      "cell_type": "code",
      "source": [
        "df.isnull().any()\n",
        "linreg = LinearRegression()\n",
        "linreg.fit(x_train, y_train)"
      ],
      "metadata": {
        "colab": {
          "base_uri": "https://localhost:8080/"
        },
        "id": "RaSgt-3g3T7K",
        "outputId": "b4d2406d-bd2c-4099-a8cb-9d987147fcee"
      },
      "execution_count": null,
      "outputs": [
        {
          "output_type": "execute_result",
          "data": {
            "text/plain": [
              "LinearRegression()"
            ]
          },
          "metadata": {},
          "execution_count": 44
        }
      ]
    },
    {
      "cell_type": "code",
      "source": [
        "mse = mean_squared_error(y_test, linreg.predict(x_test))\n",
        "np.sqrt(mse)"
      ],
      "metadata": {
        "colab": {
          "base_uri": "https://localhost:8080/"
        },
        "id": "dUU-CyUnC44_",
        "outputId": "3ad12bc2-edbd-46ee-dbc5-c605e40a5e5d"
      },
      "execution_count": null,
      "outputs": [
        {
          "output_type": "execute_result",
          "data": {
            "text/plain": [
              "0.7360032594840547"
            ]
          },
          "metadata": {},
          "execution_count": 45
        }
      ]
    },
    {
      "cell_type": "code",
      "source": [
        "linreg.score(x_test,y_test)"
      ],
      "metadata": {
        "colab": {
          "base_uri": "https://localhost:8080/"
        },
        "id": "zzzS33UpDLBy",
        "outputId": "0754e56a-2c60-4b63-9767-299d21ec9e82"
      },
      "execution_count": null,
      "outputs": [
        {
          "output_type": "execute_result",
          "data": {
            "text/plain": [
              "0.8401676903767751"
            ]
          },
          "metadata": {},
          "execution_count": 46
        }
      ]
    },
    {
      "cell_type": "markdown",
      "source": [
        "### Linear regression results\n",
        "**Accuracy:** 84.17%\n",
        "**MSE:** 0.716"
      ],
      "metadata": {
        "id": "8BzJAyRNPx1U"
      }
    },
    {
      "cell_type": "markdown",
      "source": [
        "##USING AN LSTM"
      ],
      "metadata": {
        "id": "gxM74E3VJF0K"
      }
    },
    {
      "cell_type": "code",
      "source": [
        "#Scaling before using lstm\n",
        "sc = MinMaxScaler(feature_range = (-1, 1))\n",
        "x_train = sc.fit_transform(x_train)\n",
        "x_train"
      ],
      "metadata": {
        "colab": {
          "base_uri": "https://localhost:8080/"
        },
        "id": "ZR7lITjtJJXR",
        "outputId": "6c5eeb29-c4a9-4086-aeb6-9ded78c38231"
      },
      "execution_count": null,
      "outputs": [
        {
          "output_type": "execute_result",
          "data": {
            "text/plain": [
              "array([[ 0.21777422, -0.99994437, -0.14285714, ..., -0.71428571,\n",
              "        -0.31274189,  1.        ],\n",
              "       [-0.0306245 , -0.9999938 , -1.        , ..., -1.        ,\n",
              "        -0.70645015,  1.        ],\n",
              "       [-0.48558847, -0.99999447, -0.42857143, ..., -1.        ,\n",
              "        -0.70838483,  1.        ],\n",
              "       ...,\n",
              "       [ 0.82966373, -0.9999855 ,  0.42857143, ..., -0.57142857,\n",
              "        -0.63631083,  1.        ],\n",
              "       [ 0.42574059, -0.99995185,  1.        , ..., -0.57142857,\n",
              "        -0.28081833,  1.        ],\n",
              "       [-0.37109688, -0.99999955, -0.71428571, ..., -1.        ,\n",
              "        -0.99825382,  1.        ]])"
            ]
          },
          "metadata": {},
          "execution_count": 47
        }
      ]
    },
    {
      "cell_type": "code",
      "source": [
        "#Splitting into train and test\n",
        "x_train, y_train = np.asarray(x_train).astype('float32'), np.asarray(y_train).astype('float32')\n",
        "y_train = np.reshape(y_train, (-1, 1))\n",
        "y_train = sc.fit_transform(y_train)\n",
        "y_train"
      ],
      "metadata": {
        "colab": {
          "base_uri": "https://localhost:8080/"
        },
        "id": "LBX_uCSXLLu4",
        "outputId": "deb4f614-68b9-486e-88ce-e02a681ce6b4"
      },
      "execution_count": null,
      "outputs": [
        {
          "output_type": "execute_result",
          "data": {
            "text/plain": [
              "array([[ 0.02623439],\n",
              "       [-0.4265834 ],\n",
              "       [-0.4500531 ],\n",
              "       ...,\n",
              "       [-0.25472832],\n",
              "       [-0.00414777],\n",
              "       [-0.852836  ]], dtype=float32)"
            ]
          },
          "metadata": {},
          "execution_count": 48
        }
      ]
    },
    {
      "cell_type": "code",
      "source": [
        "x_train, y_train = np.asarray(x_train).astype('float32'), np.asarray(y_train).astype('float32')"
      ],
      "metadata": {
        "id": "kz7mdBISL1gp"
      },
      "execution_count": null,
      "outputs": []
    },
    {
      "cell_type": "code",
      "source": [
        "#training the model\n",
        "regressor = Sequential()\n",
        "regressor.add(LSTM(units = 50, return_sequences = True, input_shape = (x_train.shape[1], 1)))\n",
        "regressor.add(Dropout(0.2))\n",
        "regressor.add(LSTM(units = 50, return_sequences = True))\n",
        "regressor.add(Dropout(0.2))\n",
        "regressor.add(LSTM(units = 50, return_sequences = True))\n",
        "regressor.add(Dropout(0.2))\n",
        "regressor.add(LSTM(units = 50))\n",
        "regressor.add(Dropout(0.2))\n",
        "regressor.add(Dense(units = 1))\n",
        "regressor.compile(optimizer = 'adam', loss = 'mean_squared_error', metrics= [\"mean_squared_error\"])\n",
        "regressor.fit(x_train, y_train, epochs = 50, batch_size = 32)"
      ],
      "metadata": {
        "colab": {
          "base_uri": "https://localhost:8080/"
        },
        "id": "FuxMtkaNJ962",
        "outputId": "f1f223e9-c546-4778-8fd5-2152a8d95b7d"
      },
      "execution_count": null,
      "outputs": [
        {
          "output_type": "stream",
          "name": "stdout",
          "text": [
            "Epoch 1/50\n",
            "210/210 [==============================] - 17s 44ms/step - loss: 0.1261 - mean_squared_error: 0.1261\n",
            "Epoch 2/50\n",
            "210/210 [==============================] - 10s 47ms/step - loss: 0.0611 - mean_squared_error: 0.0611\n",
            "Epoch 3/50\n",
            "210/210 [==============================] - 10s 46ms/step - loss: 0.0452 - mean_squared_error: 0.0452\n",
            "Epoch 4/50\n",
            "210/210 [==============================] - 9s 44ms/step - loss: 0.0231 - mean_squared_error: 0.0231\n",
            "Epoch 5/50\n",
            "210/210 [==============================] - 9s 43ms/step - loss: 0.0184 - mean_squared_error: 0.0184\n",
            "Epoch 6/50\n",
            "210/210 [==============================] - 15s 73ms/step - loss: 0.0176 - mean_squared_error: 0.0176\n",
            "Epoch 7/50\n",
            "210/210 [==============================] - 13s 63ms/step - loss: 0.0168 - mean_squared_error: 0.0168\n",
            "Epoch 8/50\n",
            "210/210 [==============================] - 9s 44ms/step - loss: 0.0163 - mean_squared_error: 0.0163\n",
            "Epoch 9/50\n",
            "210/210 [==============================] - 9s 44ms/step - loss: 0.0159 - mean_squared_error: 0.0159\n",
            "Epoch 10/50\n",
            "210/210 [==============================] - 9s 44ms/step - loss: 0.0159 - mean_squared_error: 0.0159\n",
            "Epoch 11/50\n",
            "210/210 [==============================] - 9s 44ms/step - loss: 0.0153 - mean_squared_error: 0.0153\n",
            "Epoch 12/50\n",
            "210/210 [==============================] - 9s 44ms/step - loss: 0.0154 - mean_squared_error: 0.0154\n",
            "Epoch 13/50\n",
            "210/210 [==============================] - 9s 44ms/step - loss: 0.0149 - mean_squared_error: 0.0149\n",
            "Epoch 14/50\n",
            "210/210 [==============================] - 9s 44ms/step - loss: 0.0144 - mean_squared_error: 0.0144\n",
            "Epoch 15/50\n",
            "210/210 [==============================] - 9s 44ms/step - loss: 0.0145 - mean_squared_error: 0.0145\n",
            "Epoch 16/50\n",
            "210/210 [==============================] - 9s 44ms/step - loss: 0.0147 - mean_squared_error: 0.0147\n",
            "Epoch 17/50\n",
            "210/210 [==============================] - 10s 46ms/step - loss: 0.0143 - mean_squared_error: 0.0143\n",
            "Epoch 18/50\n",
            "210/210 [==============================] - 10s 47ms/step - loss: 0.0141 - mean_squared_error: 0.0141\n",
            "Epoch 19/50\n",
            "210/210 [==============================] - 9s 45ms/step - loss: 0.0136 - mean_squared_error: 0.0136\n",
            "Epoch 20/50\n",
            "210/210 [==============================] - 9s 44ms/step - loss: 0.0136 - mean_squared_error: 0.0136\n",
            "Epoch 21/50\n",
            "210/210 [==============================] - 9s 44ms/step - loss: 0.0134 - mean_squared_error: 0.0134\n",
            "Epoch 22/50\n",
            "210/210 [==============================] - 9s 44ms/step - loss: 0.0131 - mean_squared_error: 0.0131\n",
            "Epoch 23/50\n",
            "210/210 [==============================] - 9s 43ms/step - loss: 0.0133 - mean_squared_error: 0.0133\n",
            "Epoch 24/50\n",
            "210/210 [==============================] - 9s 44ms/step - loss: 0.0129 - mean_squared_error: 0.0129\n",
            "Epoch 25/50\n",
            "210/210 [==============================] - 9s 44ms/step - loss: 0.0129 - mean_squared_error: 0.0129\n",
            "Epoch 26/50\n",
            "210/210 [==============================] - 9s 44ms/step - loss: 0.0124 - mean_squared_error: 0.0124\n",
            "Epoch 27/50\n",
            "210/210 [==============================] - 9s 44ms/step - loss: 0.0123 - mean_squared_error: 0.0123\n",
            "Epoch 28/50\n",
            "210/210 [==============================] - 10s 46ms/step - loss: 0.0121 - mean_squared_error: 0.0121\n",
            "Epoch 29/50\n",
            "210/210 [==============================] - 9s 44ms/step - loss: 0.0119 - mean_squared_error: 0.0119\n",
            "Epoch 30/50\n",
            "210/210 [==============================] - 9s 44ms/step - loss: 0.0120 - mean_squared_error: 0.0120\n",
            "Epoch 31/50\n",
            "210/210 [==============================] - 9s 44ms/step - loss: 0.0118 - mean_squared_error: 0.0118\n",
            "Epoch 32/50\n",
            "210/210 [==============================] - 9s 44ms/step - loss: 0.0116 - mean_squared_error: 0.0116\n",
            "Epoch 33/50\n",
            "210/210 [==============================] - 9s 44ms/step - loss: 0.0116 - mean_squared_error: 0.0116\n",
            "Epoch 34/50\n",
            "210/210 [==============================] - 9s 44ms/step - loss: 0.0115 - mean_squared_error: 0.0115\n",
            "Epoch 35/50\n",
            "210/210 [==============================] - 9s 44ms/step - loss: 0.0109 - mean_squared_error: 0.0109\n",
            "Epoch 36/50\n",
            "210/210 [==============================] - 9s 44ms/step - loss: 0.0112 - mean_squared_error: 0.0112\n",
            "Epoch 37/50\n",
            "210/210 [==============================] - 9s 43ms/step - loss: 0.0112 - mean_squared_error: 0.0112\n",
            "Epoch 38/50\n",
            "210/210 [==============================] - 9s 44ms/step - loss: 0.0111 - mean_squared_error: 0.0111\n",
            "Epoch 39/50\n",
            "210/210 [==============================] - 10s 46ms/step - loss: 0.0110 - mean_squared_error: 0.0110\n",
            "Epoch 40/50\n",
            "210/210 [==============================] - 9s 45ms/step - loss: 0.0109 - mean_squared_error: 0.0109\n",
            "Epoch 41/50\n",
            "210/210 [==============================] - 9s 45ms/step - loss: 0.0109 - mean_squared_error: 0.0109\n",
            "Epoch 42/50\n",
            "210/210 [==============================] - 9s 44ms/step - loss: 0.0107 - mean_squared_error: 0.0107\n",
            "Epoch 43/50\n",
            "210/210 [==============================] - 9s 44ms/step - loss: 0.0108 - mean_squared_error: 0.0108\n",
            "Epoch 44/50\n",
            "210/210 [==============================] - 9s 44ms/step - loss: 0.0106 - mean_squared_error: 0.0106\n",
            "Epoch 45/50\n",
            "210/210 [==============================] - 9s 44ms/step - loss: 0.0108 - mean_squared_error: 0.0108\n",
            "Epoch 46/50\n",
            "210/210 [==============================] - 9s 45ms/step - loss: 0.0106 - mean_squared_error: 0.0106\n",
            "Epoch 47/50\n",
            "210/210 [==============================] - 9s 45ms/step - loss: 0.0104 - mean_squared_error: 0.0104\n",
            "Epoch 48/50\n",
            "210/210 [==============================] - 9s 44ms/step - loss: 0.0105 - mean_squared_error: 0.0105\n",
            "Epoch 49/50\n",
            "210/210 [==============================] - 9s 44ms/step - loss: 0.0102 - mean_squared_error: 0.0102\n",
            "Epoch 50/50\n",
            "210/210 [==============================] - 9s 44ms/step - loss: 0.0106 - mean_squared_error: 0.0106\n"
          ]
        },
        {
          "output_type": "execute_result",
          "data": {
            "text/plain": [
              "<keras.callbacks.History at 0x7fdd8437ba90>"
            ]
          },
          "metadata": {},
          "execution_count": 50
        }
      ]
    },
    {
      "cell_type": "code",
      "source": [
        "x_test = StandardScaler().fit_transform(x_test)\n",
        "x_test = np.asarray(x_test).astype('float64')\n",
        "x_test = np.reshape(x_test, (x_test.shape[0], x_test.shape[1], 1))\n",
        "x_test"
      ],
      "metadata": {
        "colab": {
          "base_uri": "https://localhost:8080/"
        },
        "id": "ZKDABbU2NlMJ",
        "outputId": "3c6059a4-82b1-4c99-d2da-f1099a08a16f"
      },
      "execution_count": null,
      "outputs": [
        {
          "output_type": "execute_result",
          "data": {
            "text/plain": [
              "array([[[ 1.15958878],\n",
              "        [-0.46544565],\n",
              "        [ 0.65774424],\n",
              "        ...,\n",
              "        [ 0.19085031],\n",
              "        [-0.65449756],\n",
              "        [ 0.22955961]],\n",
              "\n",
              "       [[-0.72518428],\n",
              "        [ 0.9187094 ],\n",
              "        [ 0.65774424],\n",
              "        ...,\n",
              "        [ 0.19085031],\n",
              "        [ 1.07098072],\n",
              "        [ 0.22955961]],\n",
              "\n",
              "       [[-0.27742246],\n",
              "        [ 0.99329363],\n",
              "        [-1.51317401],\n",
              "        ...,\n",
              "        [ 1.2819809 ],\n",
              "        [ 2.2887406 ],\n",
              "        [ 0.22955961]],\n",
              "\n",
              "       ...,\n",
              "\n",
              "       [[ 1.38983597],\n",
              "        [-0.48618891],\n",
              "        [-0.64480671],\n",
              "        ...,\n",
              "        [ 0.7364156 ],\n",
              "        [-0.55888264],\n",
              "        [ 0.22955961]],\n",
              "\n",
              "       [[ 1.19142019],\n",
              "        [ 0.84412518],\n",
              "        [ 0.65774424],\n",
              "        ...,\n",
              "        [-0.35471498],\n",
              "        [ 0.44644028],\n",
              "        [ 0.22955961]],\n",
              "\n",
              "       [[-0.49847391],\n",
              "        [-0.49228987],\n",
              "        [-0.64480671],\n",
              "        ...,\n",
              "        [ 0.19085031],\n",
              "        [-1.13166376],\n",
              "        [ 0.22955961]]])"
            ]
          },
          "metadata": {},
          "execution_count": 51
        }
      ]
    },
    {
      "cell_type": "markdown",
      "source": [
        "### Validtion"
      ],
      "metadata": {
        "id": "XcofaviKH_rE"
      }
    },
    {
      "cell_type": "code",
      "source": [
        "y_pred = regressor.predict(x_test)\n",
        "y_pred"
      ],
      "metadata": {
        "colab": {
          "base_uri": "https://localhost:8080/"
        },
        "id": "_ZFGuzUbNxoL",
        "outputId": "3a8f71f0-57c8-4a00-a18c-852fae26f179"
      },
      "execution_count": null,
      "outputs": [
        {
          "output_type": "execute_result",
          "data": {
            "text/plain": [
              "array([[-0.09071846],\n",
              "       [ 0.53216064],\n",
              "       [ 0.5388546 ],\n",
              "       ...,\n",
              "       [ 0.17008457],\n",
              "       [ 0.51095307],\n",
              "       [-0.25136223]], dtype=float32)"
            ]
          },
          "metadata": {},
          "execution_count": 52
        }
      ]
    },
    {
      "cell_type": "code",
      "source": [
        "y_pred = sc.inverse_transform(y_pred)\n",
        "y_pred"
      ],
      "metadata": {
        "colab": {
          "base_uri": "https://localhost:8080/"
        },
        "id": "Owh8Pq7iN6i1",
        "outputId": "bcbd5e17-b0b9-4fc6-fa17-9f391abb4d43"
      },
      "execution_count": null,
      "outputs": [
        {
          "output_type": "execute_result",
          "data": {
            "text/plain": [
              "array([[ 9.786843 ],\n",
              "       [12.720623 ],\n",
              "       [12.7521515],\n",
              "       ...,\n",
              "       [11.015233 ],\n",
              "       [12.620734 ],\n",
              "       [ 9.030207 ]], dtype=float32)"
            ]
          },
          "metadata": {},
          "execution_count": 53
        }
      ]
    },
    {
      "cell_type": "code",
      "source": [
        "mse = mean_squared_error(y_test, y_pred)\n",
        "np.sqrt(mse)"
      ],
      "metadata": {
        "colab": {
          "base_uri": "https://localhost:8080/"
        },
        "id": "P7k3wYDhOFpL",
        "outputId": "78a9cb92-6bcf-4bf6-9692-298f106bccd3"
      },
      "execution_count": null,
      "outputs": [
        {
          "output_type": "execute_result",
          "data": {
            "text/plain": [
              "1.451503786144241"
            ]
          },
          "metadata": {},
          "execution_count": 54
        }
      ]
    },
    {
      "cell_type": "markdown",
      "source": [
        "### LTM RESULTS\n",
        "**MSE:** 1.451"
      ],
      "metadata": {
        "id": "o1NPReaKQOMN"
      }
    }
  ]
}